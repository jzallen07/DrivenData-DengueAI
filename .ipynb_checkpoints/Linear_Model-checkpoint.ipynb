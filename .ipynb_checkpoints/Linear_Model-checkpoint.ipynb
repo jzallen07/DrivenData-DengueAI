{
 "cells": [
  {
   "cell_type": "code",
   "execution_count": 30,
   "metadata": {},
   "outputs": [],
   "source": [
    "import pandas as pd\n",
    "import numpy as np\n",
    "import time as time\n",
    "import matplotlib.pyplot as plt\n",
    "import seaborn as sns\n",
    "from sklearn.linear_model import LinearRegression, LogisticRegression\n",
    "from sklearn.preprocessing import StandardScaler\n",
    "from sklearn.svm import SVR\n",
    "from sklearn.model_selection import GridSearchCV\n",
    "from sklearn.metrics import mean_absolute_error\n",
    "from sklearn.ensemble import RandomForestRegressor\n",
    "from sklearn.linear_model import Ridge, Lasso\n",
    "from sklearn.model_selection import cross_val_score\n",
    "from sklearn.metrics import make_scorer, mean_absolute_error\n",
    "%matplotlib inline"
   ]
  },
  {
   "cell_type": "code",
   "execution_count": 31,
   "metadata": {},
   "outputs": [],
   "source": [
    "# import the data from the EDA notebook\n",
    "df_iq = pd.read_csv('data/df_iq.csv', parse_dates=[1])\n",
    "df_sj = pd.read_csv('data/df_sj.csv', parse_dates=[1])"
   ]
  },
  {
   "cell_type": "code",
   "execution_count": 32,
   "metadata": {},
   "outputs": [
    {
     "data": {
      "text/html": [
       "<div>\n",
       "<style scoped>\n",
       "    .dataframe tbody tr th:only-of-type {\n",
       "        vertical-align: middle;\n",
       "    }\n",
       "\n",
       "    .dataframe tbody tr th {\n",
       "        vertical-align: top;\n",
       "    }\n",
       "\n",
       "    .dataframe thead th {\n",
       "        text-align: right;\n",
       "    }\n",
       "</style>\n",
       "<table border=\"1\" class=\"dataframe\">\n",
       "  <thead>\n",
       "    <tr style=\"text-align: right;\">\n",
       "      <th></th>\n",
       "      <th>weekofyear</th>\n",
       "      <th>week_start_date</th>\n",
       "      <th>ndvi_ne</th>\n",
       "      <th>ndvi_nw</th>\n",
       "      <th>ndvi_se</th>\n",
       "      <th>ndvi_sw</th>\n",
       "      <th>precipitation_amt_mm</th>\n",
       "      <th>reanalysis_air_temp_k</th>\n",
       "      <th>reanalysis_avg_temp_k</th>\n",
       "      <th>reanalysis_dew_point_temp_k</th>\n",
       "      <th>...</th>\n",
       "      <th>reanalysis_relative_humidity_percent</th>\n",
       "      <th>reanalysis_sat_precip_amt_mm</th>\n",
       "      <th>reanalysis_specific_humidity_g_per_kg</th>\n",
       "      <th>reanalysis_tdtr_k</th>\n",
       "      <th>station_avg_temp_c</th>\n",
       "      <th>station_diur_temp_rng_c</th>\n",
       "      <th>station_max_temp_c</th>\n",
       "      <th>station_min_temp_c</th>\n",
       "      <th>station_precip_mm</th>\n",
       "      <th>total_cases</th>\n",
       "    </tr>\n",
       "  </thead>\n",
       "  <tbody>\n",
       "    <tr>\n",
       "      <th>0</th>\n",
       "      <td>26</td>\n",
       "      <td>2000-07-01</td>\n",
       "      <td>0.192886</td>\n",
       "      <td>0.132257</td>\n",
       "      <td>0.340886</td>\n",
       "      <td>0.247200</td>\n",
       "      <td>25.41</td>\n",
       "      <td>296.740000</td>\n",
       "      <td>298.450000</td>\n",
       "      <td>295.184286</td>\n",
       "      <td>...</td>\n",
       "      <td>92.418571</td>\n",
       "      <td>25.41</td>\n",
       "      <td>16.651429</td>\n",
       "      <td>8.928571</td>\n",
       "      <td>26.400000</td>\n",
       "      <td>10.775000</td>\n",
       "      <td>32.5</td>\n",
       "      <td>20.7</td>\n",
       "      <td>3.0</td>\n",
       "      <td>0</td>\n",
       "    </tr>\n",
       "    <tr>\n",
       "      <th>1</th>\n",
       "      <td>27</td>\n",
       "      <td>2000-07-08</td>\n",
       "      <td>0.216833</td>\n",
       "      <td>0.276100</td>\n",
       "      <td>0.289457</td>\n",
       "      <td>0.241657</td>\n",
       "      <td>60.61</td>\n",
       "      <td>296.634286</td>\n",
       "      <td>298.428571</td>\n",
       "      <td>295.358571</td>\n",
       "      <td>...</td>\n",
       "      <td>93.581429</td>\n",
       "      <td>60.61</td>\n",
       "      <td>16.862857</td>\n",
       "      <td>10.314286</td>\n",
       "      <td>26.900000</td>\n",
       "      <td>11.566667</td>\n",
       "      <td>34.0</td>\n",
       "      <td>20.8</td>\n",
       "      <td>55.6</td>\n",
       "      <td>0</td>\n",
       "    </tr>\n",
       "    <tr>\n",
       "      <th>2</th>\n",
       "      <td>28</td>\n",
       "      <td>2000-07-15</td>\n",
       "      <td>0.176757</td>\n",
       "      <td>0.173129</td>\n",
       "      <td>0.204114</td>\n",
       "      <td>0.128014</td>\n",
       "      <td>55.52</td>\n",
       "      <td>296.415714</td>\n",
       "      <td>297.392857</td>\n",
       "      <td>295.622857</td>\n",
       "      <td>...</td>\n",
       "      <td>95.848571</td>\n",
       "      <td>55.52</td>\n",
       "      <td>17.120000</td>\n",
       "      <td>7.385714</td>\n",
       "      <td>26.800000</td>\n",
       "      <td>11.466667</td>\n",
       "      <td>33.0</td>\n",
       "      <td>20.7</td>\n",
       "      <td>38.1</td>\n",
       "      <td>0</td>\n",
       "    </tr>\n",
       "    <tr>\n",
       "      <th>3</th>\n",
       "      <td>29</td>\n",
       "      <td>2000-07-22</td>\n",
       "      <td>0.227729</td>\n",
       "      <td>0.145429</td>\n",
       "      <td>0.254200</td>\n",
       "      <td>0.200314</td>\n",
       "      <td>5.60</td>\n",
       "      <td>295.357143</td>\n",
       "      <td>296.228571</td>\n",
       "      <td>292.797143</td>\n",
       "      <td>...</td>\n",
       "      <td>87.234286</td>\n",
       "      <td>5.60</td>\n",
       "      <td>14.431429</td>\n",
       "      <td>9.114286</td>\n",
       "      <td>25.766667</td>\n",
       "      <td>10.533333</td>\n",
       "      <td>31.5</td>\n",
       "      <td>14.7</td>\n",
       "      <td>30.0</td>\n",
       "      <td>0</td>\n",
       "    </tr>\n",
       "    <tr>\n",
       "      <th>4</th>\n",
       "      <td>30</td>\n",
       "      <td>2000-07-29</td>\n",
       "      <td>0.328643</td>\n",
       "      <td>0.322129</td>\n",
       "      <td>0.254371</td>\n",
       "      <td>0.361043</td>\n",
       "      <td>62.76</td>\n",
       "      <td>296.432857</td>\n",
       "      <td>297.635714</td>\n",
       "      <td>293.957143</td>\n",
       "      <td>...</td>\n",
       "      <td>88.161429</td>\n",
       "      <td>62.76</td>\n",
       "      <td>15.444286</td>\n",
       "      <td>9.500000</td>\n",
       "      <td>26.600000</td>\n",
       "      <td>11.480000</td>\n",
       "      <td>33.3</td>\n",
       "      <td>19.1</td>\n",
       "      <td>4.0</td>\n",
       "      <td>0</td>\n",
       "    </tr>\n",
       "  </tbody>\n",
       "</table>\n",
       "<p>5 rows × 23 columns</p>\n",
       "</div>"
      ],
      "text/plain": [
       "   weekofyear week_start_date   ndvi_ne   ndvi_nw   ndvi_se   ndvi_sw  \\\n",
       "0          26      2000-07-01  0.192886  0.132257  0.340886  0.247200   \n",
       "1          27      2000-07-08  0.216833  0.276100  0.289457  0.241657   \n",
       "2          28      2000-07-15  0.176757  0.173129  0.204114  0.128014   \n",
       "3          29      2000-07-22  0.227729  0.145429  0.254200  0.200314   \n",
       "4          30      2000-07-29  0.328643  0.322129  0.254371  0.361043   \n",
       "\n",
       "   precipitation_amt_mm  reanalysis_air_temp_k  reanalysis_avg_temp_k  \\\n",
       "0                 25.41             296.740000             298.450000   \n",
       "1                 60.61             296.634286             298.428571   \n",
       "2                 55.52             296.415714             297.392857   \n",
       "3                  5.60             295.357143             296.228571   \n",
       "4                 62.76             296.432857             297.635714   \n",
       "\n",
       "   reanalysis_dew_point_temp_k     ...       \\\n",
       "0                   295.184286     ...        \n",
       "1                   295.358571     ...        \n",
       "2                   295.622857     ...        \n",
       "3                   292.797143     ...        \n",
       "4                   293.957143     ...        \n",
       "\n",
       "   reanalysis_relative_humidity_percent  reanalysis_sat_precip_amt_mm  \\\n",
       "0                             92.418571                         25.41   \n",
       "1                             93.581429                         60.61   \n",
       "2                             95.848571                         55.52   \n",
       "3                             87.234286                          5.60   \n",
       "4                             88.161429                         62.76   \n",
       "\n",
       "   reanalysis_specific_humidity_g_per_kg  reanalysis_tdtr_k  \\\n",
       "0                              16.651429           8.928571   \n",
       "1                              16.862857          10.314286   \n",
       "2                              17.120000           7.385714   \n",
       "3                              14.431429           9.114286   \n",
       "4                              15.444286           9.500000   \n",
       "\n",
       "   station_avg_temp_c  station_diur_temp_rng_c  station_max_temp_c  \\\n",
       "0           26.400000                10.775000                32.5   \n",
       "1           26.900000                11.566667                34.0   \n",
       "2           26.800000                11.466667                33.0   \n",
       "3           25.766667                10.533333                31.5   \n",
       "4           26.600000                11.480000                33.3   \n",
       "\n",
       "   station_min_temp_c  station_precip_mm  total_cases  \n",
       "0                20.7                3.0            0  \n",
       "1                20.8               55.6            0  \n",
       "2                20.7               38.1            0  \n",
       "3                14.7               30.0            0  \n",
       "4                19.1                4.0            0  \n",
       "\n",
       "[5 rows x 23 columns]"
      ]
     },
     "execution_count": 32,
     "metadata": {},
     "output_type": "execute_result"
    }
   ],
   "source": [
    "df_iq.head()"
   ]
  },
  {
   "cell_type": "code",
   "execution_count": 33,
   "metadata": {},
   "outputs": [
    {
     "name": "stdout",
     "output_type": "stream",
     "text": [
      "iq start date: 2000-07-01 00:00:00\n",
      "iq end date: 2010-06-25 00:00:00\n",
      "sj start date: 1990-04-30 00:00:00\n",
      "sj end date: 2008-04-22 00:00:00\n"
     ]
    }
   ],
   "source": [
    "# check the range of timestamps\n",
    "print('iq start date:',df_iq.week_start_date.min())\n",
    "print('iq end date:',df_iq.week_start_date.max())\n",
    "print('sj start date:',df_sj.week_start_date.min())\n",
    "print('sj end date:',df_sj.week_start_date.max())"
   ]
  },
  {
   "cell_type": "markdown",
   "metadata": {},
   "source": [
    "### Feature Engineering"
   ]
  },
  {
   "cell_type": "code",
   "execution_count": 34,
   "metadata": {},
   "outputs": [],
   "source": [
    "# create mean ndvi\n",
    "df_sj['ndvi_mean'] = (df_sj['ndvi_ne'] + df_sj['ndvi_nw'] + df_sj['ndvi_se'] + df_sj['ndvi_sw']) / 4.0\n",
    "df_iq['ndvi_mean'] = (df_iq['ndvi_ne'] + df_iq['ndvi_nw'] + df_iq['ndvi_se'] + df_iq['ndvi_sw']) / 4.0"
   ]
  },
  {
   "cell_type": "markdown",
   "metadata": {},
   "source": [
    "### Train - Vallidation Split"
   ]
  },
  {
   "cell_type": "code",
   "execution_count": 35,
   "metadata": {},
   "outputs": [
    {
     "name": "stdout",
     "output_type": "stream",
     "text": [
      "Total: (936, 24)\n",
      "Train: (659, 24)\n",
      "Valid: (277, 24)\n",
      "936\n"
     ]
    },
    {
     "name": "stderr",
     "output_type": "stream",
     "text": [
      "/usr/local/lib/python3.7/site-packages/sklearn/preprocessing/data.py:625: DataConversionWarning: Data with input dtype int64, float64 were all converted to float64 by StandardScaler.\n",
      "  return self.partial_fit(X, y)\n",
      "/usr/local/lib/python3.7/site-packages/sklearn/base.py:462: DataConversionWarning: Data with input dtype int64, float64 were all converted to float64 by StandardScaler.\n",
      "  return self.fit(X, **fit_params).transform(X)\n"
     ]
    }
   ],
   "source": [
    "# scale the data and create features as discussed in the EDA notebook.\n",
    "ss = StandardScaler()\n",
    "Xs = ss.fit_transform(df_sj[df_sj.columns[2:24]])\n",
    "df_sj_s = pd.DataFrame(Xs, columns = df_sj.columns[2:24], index=df_sj.index)\n",
    "df_sj_s['week_start_date'] = df_sj['week_start_date']\n",
    "df_sj_s['weekofyear'] = df_sj['weekofyear']\n",
    "df_sj_s['month'] = df_sj_s.week_start_date.dt.month\n",
    "df_sj_s['year'] = df_sj_s.week_start_date.dt.year\n",
    "sj_train = df_sj_s[df_sj_s.week_start_date.dt.year <= 2002].drop('total_cases', axis=1)\n",
    "sj_train_target = df_sj[df_sj.week_start_date.dt.year <= 2002].total_cases\n",
    "\n",
    "sj_valid = df_sj_s[df_sj_s.week_start_date.dt.year > 2002].drop('total_cases', axis=1)\n",
    "sj_valid_target = df_sj[df_sj.week_start_date.dt.year > 2002].total_cases\n",
    "\n",
    "sj_train.drop('week_start_date', axis=1, inplace=True)\n",
    "sj_valid.drop('week_start_date', axis=1, inplace=True)\n",
    "\n",
    "print('Total:', df_sj.shape)\n",
    "print('Train:', sj_train.shape)\n",
    "print('Valid:', sj_valid.shape)\n",
    "print(sj_train.shape[0] + sj_valid.shape[0])"
   ]
  },
  {
   "cell_type": "code",
   "execution_count": 36,
   "metadata": {},
   "outputs": [
    {
     "data": {
      "text/html": [
       "<div>\n",
       "<style scoped>\n",
       "    .dataframe tbody tr th:only-of-type {\n",
       "        vertical-align: middle;\n",
       "    }\n",
       "\n",
       "    .dataframe tbody tr th {\n",
       "        vertical-align: top;\n",
       "    }\n",
       "\n",
       "    .dataframe thead th {\n",
       "        text-align: right;\n",
       "    }\n",
       "</style>\n",
       "<table border=\"1\" class=\"dataframe\">\n",
       "  <thead>\n",
       "    <tr style=\"text-align: right;\">\n",
       "      <th></th>\n",
       "      <th>ndvi_ne</th>\n",
       "      <th>ndvi_nw</th>\n",
       "      <th>ndvi_se</th>\n",
       "      <th>ndvi_sw</th>\n",
       "      <th>precipitation_amt_mm</th>\n",
       "      <th>reanalysis_air_temp_k</th>\n",
       "      <th>reanalysis_avg_temp_k</th>\n",
       "      <th>reanalysis_dew_point_temp_k</th>\n",
       "      <th>reanalysis_max_air_temp_k</th>\n",
       "      <th>reanalysis_min_air_temp_k</th>\n",
       "      <th>...</th>\n",
       "      <th>reanalysis_tdtr_k</th>\n",
       "      <th>station_avg_temp_c</th>\n",
       "      <th>station_diur_temp_rng_c</th>\n",
       "      <th>station_max_temp_c</th>\n",
       "      <th>station_min_temp_c</th>\n",
       "      <th>station_precip_mm</th>\n",
       "      <th>ndvi_mean</th>\n",
       "      <th>weekofyear</th>\n",
       "      <th>month</th>\n",
       "      <th>year</th>\n",
       "    </tr>\n",
       "  </thead>\n",
       "  <tbody>\n",
       "    <tr>\n",
       "      <th>0</th>\n",
       "      <td>0.618730</td>\n",
       "      <td>0.406732</td>\n",
       "      <td>0.386803</td>\n",
       "      <td>0.207545</td>\n",
       "      <td>-0.513013</td>\n",
       "      <td>-1.282015</td>\n",
       "      <td>-1.253898</td>\n",
       "      <td>-1.714497</td>\n",
       "      <td>-1.265623</td>\n",
       "      <td>-1.079864</td>\n",
       "      <td>...</td>\n",
       "      <td>0.228762</td>\n",
       "      <td>-1.100409</td>\n",
       "      <td>0.173508</td>\n",
       "      <td>-1.278687</td>\n",
       "      <td>-1.723054</td>\n",
       "      <td>-0.367775</td>\n",
       "      <td>0.600281</td>\n",
       "      <td>18</td>\n",
       "      <td>4</td>\n",
       "      <td>1990</td>\n",
       "    </tr>\n",
       "    <tr>\n",
       "      <th>1</th>\n",
       "      <td>1.069847</td>\n",
       "      <td>0.827328</td>\n",
       "      <td>-0.240873</td>\n",
       "      <td>-0.189115</td>\n",
       "      <td>-0.279993</td>\n",
       "      <td>-0.765638</td>\n",
       "      <td>-0.679726</td>\n",
       "      <td>-0.734948</td>\n",
       "      <td>-0.391773</td>\n",
       "      <td>-0.693609</td>\n",
       "      <td>...</td>\n",
       "      <td>-0.287676</td>\n",
       "      <td>-0.201443</td>\n",
       "      <td>-0.459811</td>\n",
       "      <td>0.059942</td>\n",
       "      <td>-0.261722</td>\n",
       "      <td>-0.620780</td>\n",
       "      <td>0.721719</td>\n",
       "      <td>19</td>\n",
       "      <td>5</td>\n",
       "      <td>1990</td>\n",
       "    </tr>\n",
       "    <tr>\n",
       "      <th>2</th>\n",
       "      <td>-0.242970</td>\n",
       "      <td>1.164151</td>\n",
       "      <td>-0.330476</td>\n",
       "      <td>0.086137</td>\n",
       "      <td>-0.017398</td>\n",
       "      <td>-0.304710</td>\n",
       "      <td>-0.322333</td>\n",
       "      <td>0.210006</td>\n",
       "      <td>-0.709537</td>\n",
       "      <td>0.001651</td>\n",
       "      <td>...</td>\n",
       "      <td>-0.431131</td>\n",
       "      <td>-0.201443</td>\n",
       "      <td>-0.322877</td>\n",
       "      <td>0.350949</td>\n",
       "      <td>0.136822</td>\n",
       "      <td>0.500648</td>\n",
       "      <td>0.294770</td>\n",
       "      <td>20</td>\n",
       "      <td>5</td>\n",
       "      <td>1990</td>\n",
       "    </tr>\n",
       "    <tr>\n",
       "      <th>3</th>\n",
       "      <td>0.676272</td>\n",
       "      <td>1.952837</td>\n",
       "      <td>0.891947</td>\n",
       "      <td>1.251919</td>\n",
       "      <td>-0.447140</td>\n",
       "      <td>-0.138360</td>\n",
       "      <td>-0.035247</td>\n",
       "      <td>0.130805</td>\n",
       "      <td>0.005432</td>\n",
       "      <td>-0.230103</td>\n",
       "      <td>...</td>\n",
       "      <td>-0.172912</td>\n",
       "      <td>0.333897</td>\n",
       "      <td>0.019457</td>\n",
       "      <td>0.991163</td>\n",
       "      <td>0.468943</td>\n",
       "      <td>-0.778054</td>\n",
       "      <td>1.637054</td>\n",
       "      <td>21</td>\n",
       "      <td>5</td>\n",
       "      <td>1990</td>\n",
       "    </tr>\n",
       "    <tr>\n",
       "      <th>4</th>\n",
       "      <td>1.320680</td>\n",
       "      <td>2.140254</td>\n",
       "      <td>1.302732</td>\n",
       "      <td>1.457218</td>\n",
       "      <td>-0.622801</td>\n",
       "      <td>0.291378</td>\n",
       "      <td>0.322146</td>\n",
       "      <td>0.456714</td>\n",
       "      <td>0.402637</td>\n",
       "      <td>0.156153</td>\n",
       "      <td>...</td>\n",
       "      <td>1.003419</td>\n",
       "      <td>1.374273</td>\n",
       "      <td>3.134700</td>\n",
       "      <td>1.980584</td>\n",
       "      <td>0.867488</td>\n",
       "      <td>-0.716512</td>\n",
       "      <td>2.166210</td>\n",
       "      <td>22</td>\n",
       "      <td>5</td>\n",
       "      <td>1990</td>\n",
       "    </tr>\n",
       "  </tbody>\n",
       "</table>\n",
       "<p>5 rows × 24 columns</p>\n",
       "</div>"
      ],
      "text/plain": [
       "    ndvi_ne   ndvi_nw   ndvi_se   ndvi_sw  precipitation_amt_mm  \\\n",
       "0  0.618730  0.406732  0.386803  0.207545             -0.513013   \n",
       "1  1.069847  0.827328 -0.240873 -0.189115             -0.279993   \n",
       "2 -0.242970  1.164151 -0.330476  0.086137             -0.017398   \n",
       "3  0.676272  1.952837  0.891947  1.251919             -0.447140   \n",
       "4  1.320680  2.140254  1.302732  1.457218             -0.622801   \n",
       "\n",
       "   reanalysis_air_temp_k  reanalysis_avg_temp_k  reanalysis_dew_point_temp_k  \\\n",
       "0              -1.282015              -1.253898                    -1.714497   \n",
       "1              -0.765638              -0.679726                    -0.734948   \n",
       "2              -0.304710              -0.322333                     0.210006   \n",
       "3              -0.138360              -0.035247                     0.130805   \n",
       "4               0.291378               0.322146                     0.456714   \n",
       "\n",
       "   reanalysis_max_air_temp_k  reanalysis_min_air_temp_k  ...   \\\n",
       "0                  -1.265623                  -1.079864  ...    \n",
       "1                  -0.391773                  -0.693609  ...    \n",
       "2                  -0.709537                   0.001651  ...    \n",
       "3                   0.005432                  -0.230103  ...    \n",
       "4                   0.402637                   0.156153  ...    \n",
       "\n",
       "   reanalysis_tdtr_k  station_avg_temp_c  station_diur_temp_rng_c  \\\n",
       "0           0.228762           -1.100409                 0.173508   \n",
       "1          -0.287676           -0.201443                -0.459811   \n",
       "2          -0.431131           -0.201443                -0.322877   \n",
       "3          -0.172912            0.333897                 0.019457   \n",
       "4           1.003419            1.374273                 3.134700   \n",
       "\n",
       "   station_max_temp_c  station_min_temp_c  station_precip_mm  ndvi_mean  \\\n",
       "0           -1.278687           -1.723054          -0.367775   0.600281   \n",
       "1            0.059942           -0.261722          -0.620780   0.721719   \n",
       "2            0.350949            0.136822           0.500648   0.294770   \n",
       "3            0.991163            0.468943          -0.778054   1.637054   \n",
       "4            1.980584            0.867488          -0.716512   2.166210   \n",
       "\n",
       "   weekofyear  month  year  \n",
       "0          18      4  1990  \n",
       "1          19      5  1990  \n",
       "2          20      5  1990  \n",
       "3          21      5  1990  \n",
       "4          22      5  1990  \n",
       "\n",
       "[5 rows x 24 columns]"
      ]
     },
     "execution_count": 36,
     "metadata": {},
     "output_type": "execute_result"
    }
   ],
   "source": [
    "sj_train.head()"
   ]
  },
  {
   "cell_type": "code",
   "execution_count": 37,
   "metadata": {},
   "outputs": [
    {
     "name": "stdout",
     "output_type": "stream",
     "text": [
      "Total: (520, 24)\n",
      "Train: (338, 23)\n",
      "Valid: (182, 23)\n",
      "520\n"
     ]
    },
    {
     "name": "stderr",
     "output_type": "stream",
     "text": [
      "/usr/local/lib/python3.7/site-packages/sklearn/preprocessing/data.py:625: DataConversionWarning: Data with input dtype int64, float64 were all converted to float64 by StandardScaler.\n",
      "  return self.partial_fit(X, y)\n",
      "/usr/local/lib/python3.7/site-packages/sklearn/base.py:462: DataConversionWarning: Data with input dtype int64, float64 were all converted to float64 by StandardScaler.\n",
      "  return self.fit(X, **fit_params).transform(X)\n"
     ]
    }
   ],
   "source": [
    "# scale the data and create features as discussed in the EDA notebook.\n",
    "ss = StandardScaler()\n",
    "Xs = ss.fit_transform(df_sj[df_sj.columns[2:23]])\n",
    "df_iq_s = pd.DataFrame(Xs, columns = df_iq.columns[2:23], index=df_sj.index)\n",
    "df_iq_s['week_start_date'] = df_iq['week_start_date']\n",
    "df_iq_s['weekofyear'] = df_iq['weekofyear']\n",
    "df_iq_s['month'] = df_iq_s.week_start_date.dt.month\n",
    "df_iq_s['year'] = df_iq_s.week_start_date.dt.year\n",
    "\n",
    "iq_train = df_iq_s[df_iq_s.week_start_date.dt.year <=2006].drop('total_cases', axis=1)\n",
    "iq_train_target = df_iq[df_iq.week_start_date.dt.year <=2006].total_cases\n",
    "\n",
    "iq_valid = df_iq_s[df_iq_s.week_start_date.dt.year > 2006].drop('total_cases', axis=1)\n",
    "iq_valid_target = df_iq[df_iq.week_start_date.dt.year > 2006].total_cases\n",
    "\n",
    "iq_train.drop('week_start_date', axis=1,inplace=True)\n",
    "iq_valid.drop('week_start_date', axis=1,inplace=True)\n",
    "\n",
    "print('Total:', df_iq.shape)\n",
    "print('Train:', iq_train.shape)\n",
    "print('Valid:', iq_valid.shape)\n",
    "print(iq_train.shape[0] + iq_valid.shape[0])"
   ]
  },
  {
   "cell_type": "markdown",
   "metadata": {},
   "source": [
    "### San Juan"
   ]
  },
  {
   "cell_type": "code",
   "execution_count": 38,
   "metadata": {},
   "outputs": [
    {
     "data": {
      "image/png": "[encoded data removed]",
      "text/plain": [
       "<Figure size 432x288 with 1 Axes>"
      ]
     },
     "metadata": {
      "needs_background": "light"
     },
     "output_type": "display_data"
    },
    {
     "name": "stdout",
     "output_type": "stream",
     "text": [
      "validation MAE: 24.636\n",
      "monthly MAE: 25.515\n"
     ]
    }
   ],
   "source": [
    "# test a simnple linear model with a monthly mean\n",
    "# instantiate the linear model\n",
    "lr_sj = LinearRegression()\n",
    "# get dummies for the month and year\n",
    "X = pd.get_dummies(sj_train['month'], prefix='month')\n",
    "y = sj_train_target.values\n",
    "\n",
    "# fit the linear model\n",
    "lr_sj.fit(X, y)\n",
    "\n",
    "# Here we use the pandas rolling window function to create a mean trend w/i a spevified interval, \n",
    "# useful for time series data.\n",
    "monthly_trend_train = pd.Series(lr_sj.predict(X)).rolling(3, min_periods = 1).mean()\n",
    "sj_residuals_train = y - monthly_trend_train\n",
    "\n",
    "\n",
    "# on validation data\n",
    "# note: monthly trend does not need previous weeks data, so this can use the validation set\n",
    "Xtest = pd.get_dummies(sj_valid['month'], prefix='month')\n",
    "ytest = sj_valid_target.values\n",
    "monthly_trend_valid = pd.Series(lr_sj.predict(Xtest)).rolling(3, min_periods=1).mean()\n",
    "sj_residuals_test = ytest - monthly_trend_valid\n",
    "\n",
    "# plot\n",
    "plt.plot(lr_sj.predict(Xtest))\n",
    "plt.plot(monthly_trend_valid)\n",
    "plt.plot(ytest)\n",
    "plt.show()\n",
    "\n",
    "print('validation MAE:', round(mean_absolute_error(lr_sj.predict(Xtest), ytest),3))\n",
    "print('monthly MAE:', round(mean_absolute_error(monthly_trend_valid, ytest),3))"
   ]
  },
  {
   "cell_type": "markdown",
   "metadata": {},
   "source": [
    "As can be observed we are getting decent results with little modification. The goal for further tuning this model would be to adjust the time window functions to increase the degree of fit. Also, creating a more complex version of this type of time series analysis using ARIMAX or similar tends to work very well for this kind of task. \n",
    "\n",
    "Also, given the MAE's above there does not seem to ve too be any ocerfitting at this point, but that will certainly be something to watch for in future iterations on this proble as I increase the model complexity."
   ]
  },
  {
   "cell_type": "code",
   "execution_count": 39,
   "metadata": {},
   "outputs": [
    {
     "name": "stderr",
     "output_type": "stream",
     "text": [
      "/usr/local/lib/python3.7/site-packages/scipy/stats/stats.py:1713: FutureWarning: Using a non-tuple sequence for multidimensional indexing is deprecated; use `arr[tuple(seq)]` instead of `arr[seq]`. In the future this will be interpreted as an array index, `arr[np.array(seq)]`, which will result either in an error or a different result.\n",
      "  return np.add.reduce(sorted[indexer] * weights, axis=axis) / sumval\n"
     ]
    },
    {
     "data": {
      "image/png": "[encoded data removed]",
      "text/plain": [
       "<Figure size 720x432 with 1 Axes>"
      ]
     },
     "metadata": {
      "needs_background": "light"
     },
     "output_type": "display_data"
    }
   ],
   "source": [
    "# plot the residuals of the model\n",
    "plt.figure(figsize=(10,6))\n",
    "sns.distplot(sj_residuals_test, bins = 50)\n",
    "plt.xlabel('Delta from Actual', fontsize=12)\n",
    "plt.title('Distribution of Residuals', fontsize = 12);"
   ]
  },
  {
   "cell_type": "markdown",
   "metadata": {},
   "source": [
    "### Iquitos"
   ]
  },
  {
   "cell_type": "code",
   "execution_count": 40,
   "metadata": {},
   "outputs": [
    {
     "data": {
      "image/png": "[encoded data removed]",
      "text/plain": [
       "<Figure size 432x288 with 1 Axes>"
      ]
     },
     "metadata": {
      "needs_background": "light"
     },
     "output_type": "display_data"
    },
    {
     "name": "stdout",
     "output_type": "stream",
     "text": [
      "validation MAE: 6.382\n",
      "monthly MAE: 6.412\n"
     ]
    }
   ],
   "source": [
    "# test a simnple linear model with a monthly mean\n",
    "\n",
    "lr_iq = LinearRegression()\n",
    "X = pd.get_dummies(iq_train['month'], prefix='month')\n",
    "y = iq_train_target.values\n",
    "\n",
    "lr_iq.fit(X, y)\n",
    "monthly_trend_train = pd.Series(lr_iq.predict(X)).rolling(3, min_periods = 1).mean()\n",
    "iq_residuals_train = y - monthly_trend_train\n",
    "\n",
    "\n",
    "# on validation data\n",
    "# note: monthly trend does not need previous weeks data, so this can use the validation set\n",
    "Xtest = pd.get_dummies(iq_valid['month'], prefix='month')\n",
    "ytest = iq_valid_target.values\n",
    "monthly_trend_valid = pd.Series(lr_iq.predict(Xtest)).rolling(3, min_periods=1).mean()\n",
    "iq_residuals_test = ytest - monthly_trend_valid\n",
    "\n",
    "# plot\n",
    "plt.plot(lr_iq.predict(Xtest))\n",
    "plt.plot(monthly_trend_valid)\n",
    "plt.plot(ytest)\n",
    "plt.show()\n",
    "\n",
    "print('validation MAE:', round(mean_absolute_error(lr_iq.predict(Xtest), ytest),3))\n",
    "print('monthly MAE:', round(mean_absolute_error(monthly_trend_valid, ytest),3))"
   ]
  },
  {
   "cell_type": "code",
   "execution_count": 41,
   "metadata": {},
   "outputs": [
    {
     "name": "stderr",
     "output_type": "stream",
     "text": [
      "/usr/local/lib/python3.7/site-packages/scipy/stats/stats.py:1713: FutureWarning: Using a non-tuple sequence for multidimensional indexing is deprecated; use `arr[tuple(seq)]` instead of `arr[seq]`. In the future this will be interpreted as an array index, `arr[np.array(seq)]`, which will result either in an error or a different result.\n",
      "  return np.add.reduce(sorted[indexer] * weights, axis=axis) / sumval\n"
     ]
    },
    {
     "data": {
      "image/png": "[encoded data removed]",
      "text/plain": [
       "<Figure size 720x432 with 1 Axes>"
      ]
     },
     "metadata": {
      "needs_background": "light"
     },
     "output_type": "display_data"
    }
   ],
   "source": [
    "# plot the residuals of the model\n",
    "plt.figure(figsize=(10,6))\n",
    "sns.distplot(iq_residuals_test, bins = 50)\n",
    "plt.xlabel('Delta from Actual', fontsize=12)\n",
    "plt.title('Distribution of Residuals', fontsize = 12);"
   ]
  },
  {
   "cell_type": "markdown",
   "metadata": {},
   "source": [
    "### Test Data"
   ]
  },
  {
   "cell_type": "code",
   "execution_count": 42,
   "metadata": {},
   "outputs": [
    {
     "name": "stderr",
     "output_type": "stream",
     "text": [
      "/usr/local/lib/python3.7/site-packages/pandas/core/frame.py:3697: SettingWithCopyWarning: \n",
      "A value is trying to be set on a copy of a slice from a DataFrame\n",
      "\n",
      "See the caveats in the documentation: http://pandas.pydata.org/pandas-docs/stable/indexing.html#indexing-view-versus-copy\n",
      "  errors=errors)\n",
      "/usr/local/lib/python3.7/site-packages/pandas/core/frame.py:3697: SettingWithCopyWarning: \n",
      "A value is trying to be set on a copy of a slice from a DataFrame\n",
      "\n",
      "See the caveats in the documentation: http://pandas.pydata.org/pandas-docs/stable/indexing.html#indexing-view-versus-copy\n",
      "  errors=errors)\n"
     ]
    }
   ],
   "source": [
    "# Perform the same operations on the test data was for the training data\n",
    "test = pd.read_csv('data/dengue_features_test.csv', parse_dates=[3])\n",
    "\n",
    "sj_test = test[test['city'] == 'sj']\n",
    "sj_test.drop('city', axis=1, inplace=True)\n",
    "sj_test.drop('year', axis=1, inplace=True)\n",
    "\n",
    "sj_test = sj_test.fillna(method = 'ffill')\n",
    "\n",
    "sj_test['ndvi_mean'] = (sj_test['ndvi_ne'] + sj_test['ndvi_nw'] + sj_test['ndvi_se'] + sj_test['ndvi_sw']) / 4.0\n",
    "\n",
    "ss = StandardScaler()\n",
    "Xs = ss.fit_transform(sj_test[sj_test.columns[2:23]])\n",
    "sj_test_s = pd.DataFrame(Xs, columns = sj_test.columns[2:23], index=sj_test.index)\n",
    "sj_test_s['week_start_date'] = sj_test['week_start_date']\n",
    "sj_test_s['weekofyear'] = sj_test['weekofyear']\n",
    "sj_test_s['month'] = sj_test_s.week_start_date.dt.month\n",
    "sj_test_s['year'] = sj_test_s.week_start_date.dt.year\n",
    "sj_test_s.drop('week_start_date', axis=1, inplace=True)\n",
    "\n",
    "\n",
    "iq_test = test[test['city'] == 'iq']\n",
    "iq_test.drop('city', axis=1, inplace=True)\n",
    "iq_test.drop('year', axis=1, inplace=True)\n",
    "\n",
    "iq_test = iq_test.fillna(method = 'ffill')\n",
    "\n",
    "iq_test['ndvi_mean'] = (iq_test['ndvi_ne'] + iq_test['ndvi_nw'] + iq_test['ndvi_se'] + iq_test['ndvi_sw']) / 4.0\n",
    "\n",
    "ss = StandardScaler()\n",
    "Xs = ss.fit_transform(iq_test[iq_test.columns[2:23]])\n",
    "iq_test_s = pd.DataFrame(Xs, columns = iq_test.columns[2:23], index=iq_test.index)\n",
    "iq_test_s['week_start_date'] = iq_test['week_start_date']\n",
    "iq_test_s['month'] = iq_test_s.week_start_date.dt.month\n",
    "iq_test_s['year'] = iq_test_s.week_start_date.dt.year\n",
    "iq_test_s.drop('week_start_date', axis=1, inplace=True)"
   ]
  },
  {
   "cell_type": "code",
   "execution_count": 43,
   "metadata": {},
   "outputs": [],
   "source": [
    "# combine the predictions from both models for the test data\n",
    "sj_submit = lr_sj.predict(pd.get_dummies(sj_test_s['month'], prefix='month'))\n",
    "sj_submit = sj_submit.astype(int)\n",
    "iq_submit = lr_iq.predict(pd.get_dummies(iq_test_s['month'], prefix='month'))\n",
    "iq_submit = iq_submit.astype(int)\n",
    "predictions = np.concatenate((sj_submit, iq_submit))"
   ]
  },
  {
   "cell_type": "code",
   "execution_count": 44,
   "metadata": {},
   "outputs": [
    {
     "data": {
      "text/plain": [
       "array([12, 12, 12, 12, 12, 17, 17, 17, 17, 28, 28, 28, 28, 28, 48, 48, 48,\n",
       "       48, 56, 56, 56, 56, 56, 80, 80, 80, 80, 75, 75, 75, 75, 51, 51, 51,\n",
       "       51, 41, 41, 41, 41, 41, 27, 27, 27, 27, 18, 18, 18, 18, 12, 12, 12,\n",
       "       12, 12, 12, 12, 12, 12, 17, 17, 17, 17, 28, 28, 28, 28, 28, 48, 48,\n",
       "       48, 48, 56, 56, 56, 56, 80, 80, 80, 80, 80, 75, 75, 75, 75, 51, 51,\n",
       "       51, 51, 41, 41, 41, 41, 41, 27, 27, 27, 27, 18, 18, 18, 18, 12, 12,\n",
       "       12, 12, 12, 12, 12, 12, 12, 17, 17, 17, 17, 28, 28, 28, 28, 28, 48,\n",
       "       48, 48, 48, 56, 56, 56, 56, 80, 80, 80, 80, 80, 75, 75, 75, 75, 51,\n",
       "       51, 51, 51, 41, 41, 41, 41, 41, 27, 27, 27, 27, 18, 18, 18, 18, 12,\n",
       "       12, 12, 12, 12, 12, 12, 12, 12, 17, 17, 17, 17, 28, 28, 28, 28, 28,\n",
       "       48, 48, 48, 48, 56, 56, 56, 56, 80, 80, 80, 80, 80, 75, 75, 75, 75,\n",
       "       51, 51, 51, 51, 41, 41, 41, 41, 41, 27, 27, 27, 27, 18, 18, 18, 18,\n",
       "       12, 12, 12, 12, 12, 12, 12, 12, 12, 17, 17, 17, 17, 28, 28, 28, 28,\n",
       "       28, 48, 48, 48, 48, 56, 56, 56, 56, 56, 80, 80, 80, 80, 75, 75, 75,\n",
       "       75, 51, 51, 51, 51, 41, 41, 41, 41, 41, 27, 27, 27, 27, 18, 18, 18,\n",
       "       18, 12, 12, 12, 12])"
      ]
     },
     "execution_count": 44,
     "metadata": {},
     "output_type": "execute_result"
    }
   ],
   "source": [
    "sj_submit"
   ]
  },
  {
   "cell_type": "code",
   "execution_count": 45,
   "metadata": {},
   "outputs": [
    {
     "name": "stdout",
     "output_type": "stream",
     "text": [
      "(260,)\n",
      "(156,)\n",
      "416\n",
      "416\n",
      "416\n"
     ]
    }
   ],
   "source": [
    "print(sj_submit.shape)\n",
    "print(iq_submit.shape)\n",
    "print(sj_submit.shape[0] + iq_submit.shape[0])\n",
    "print(predictions.shape[0])\n",
    "print(test.shape[0])"
   ]
  },
  {
   "cell_type": "code",
   "execution_count": 46,
   "metadata": {},
   "outputs": [],
   "source": [
    "# combine predictions and export submission to csv\n",
    "submission = pd.DataFrame(predictions, columns=[\"total_cases\"])\n",
    "submission.insert(0, 'city', test.city)\n",
    "submission.insert(1, 'year', test.year)\n",
    "submission.insert(2, 'weekofyear', test.weekofyear)\n",
    "submission.reset_index()\n",
    "submission.to_csv('data/Submission.csv', index = False)"
   ]
  },
  {
   "cell_type": "markdown",
   "metadata": {},
   "source": [
    " Competition MAE of ~26"
   ]
  },
  {
   "cell_type": "code",
   "execution_count": null,
   "metadata": {},
   "outputs": [],
   "source": []
  },
  {
   "cell_type": "code",
   "execution_count": null,
   "metadata": {},
   "outputs": [],
   "source": []
  },
  {
   "cell_type": "code",
   "execution_count": null,
   "metadata": {},
   "outputs": [],
   "source": []
  }
 ],
 "metadata": {
  "kernelspec": {
   "display_name": "Python 3",
   "language": "python",
   "name": "python3"
  },
  "language_info": {
   "codemirror_mode": {
    "name": "ipython",
    "version": 3
   },
   "file_extension": ".py",
   "mimetype": "text/x-python",
   "name": "python",
   "nbconvert_exporter": "python",
   "pygments_lexer": "ipython3",
   "version": "3.7.1"
  }
 },
 "nbformat": 4,
 "nbformat_minor": 2
}
