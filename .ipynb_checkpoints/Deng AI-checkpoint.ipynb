{
 "cells": [
  {
   "cell_type": "markdown",
   "metadata": {},
   "source": [
    "# This kernel contains the solution codes for DengAI: Predicting Disease Spread competition of www.drivendata.org competition site"
   ]
  },
  {
   "cell_type": "markdown",
   "metadata": {},
   "source": [
    "This competition requires us to predict the total number of cases of dengue for the cities San Juan and Iquitos for a certain number of years. The prediction for the total number of cases are min temp., max temp., precipitation amt. etc."
   ]
  },
  {
   "cell_type": "markdown",
   "metadata": {},
   "source": [
    "There are three files:-\n",
    "1. train- It contains the predictors for the train dataset\n",
    "2. train_labels- It contains the targets for the train dataset\n",
    "3. test- It contains the predictors for the test dataset"
   ]
  },
  {
   "cell_type": "markdown",
   "metadata": {},
   "source": [
    "Importing the necessary packages"
   ]
  },
  {
   "cell_type": "code",
   "execution_count": 15,
   "metadata": {},
   "outputs": [],
   "source": [
    "import pandas as pd\n",
    "import numpy as np\n",
    "import seaborn as sns\n",
    "import matplotlib.pyplot as plt\n",
    "%matplotlib inline\n",
    "import warnings\n",
    "warnings.filterwarnings(\"ignore\")\n",
    "pd.set_option('display.max_columns', None)"
   ]
  },
  {
   "cell_type": "markdown",
   "metadata": {},
   "source": [
    "Reading the train dataset, test dataset and the target for the train dataset from the train labels file"
   ]
  },
  {
   "cell_type": "code",
   "execution_count": 16,
   "metadata": {},
   "outputs": [],
   "source": [
    "train = pd.read_csv(\"dengue_features_train.csv\")\n",
    "train_labels = pd.read_csv(\"dengue_labels_train.csv\")\n",
    "test = pd.read_csv(\"dengue_features_test.csv\")"
   ]
  },
  {
   "cell_type": "code",
   "execution_count": 17,
   "metadata": {},
   "outputs": [
    {
     "name": "stdout",
     "output_type": "stream",
     "text": [
      "shape of train is (1456, 24)\n",
      "shape of train_labels is (1456, 4)\n",
      "shape of test is (416, 24)\n"
     ]
    }
   ],
   "source": [
    "print(\"shape of train is \"+str(train.shape))\n",
    "print(\"shape of train_labels is \"+str(train_labels.shape))\n",
    "print(\"shape of test is \"+str(test.shape))"
   ]
  },
  {
   "cell_type": "code",
   "execution_count": 18,
   "metadata": {},
   "outputs": [
    {
     "name": "stdout",
     "output_type": "stream",
     "text": [
      "head of train\n"
     ]
    },
    {
     "data": {
      "text/html": [
       "<div>\n",
       "<style scoped>\n",
       "    .dataframe tbody tr th:only-of-type {\n",
       "        vertical-align: middle;\n",
       "    }\n",
       "\n",
       "    .dataframe tbody tr th {\n",
       "        vertical-align: top;\n",
       "    }\n",
       "\n",
       "    .dataframe thead th {\n",
       "        text-align: right;\n",
       "    }\n",
       "</style>\n",
       "<table border=\"1\" class=\"dataframe\">\n",
       "  <thead>\n",
       "    <tr style=\"text-align: right;\">\n",
       "      <th></th>\n",
       "      <th>city</th>\n",
       "      <th>year</th>\n",
       "      <th>weekofyear</th>\n",
       "      <th>week_start_date</th>\n",
       "      <th>ndvi_ne</th>\n",
       "      <th>ndvi_nw</th>\n",
       "      <th>ndvi_se</th>\n",
       "      <th>ndvi_sw</th>\n",
       "      <th>precipitation_amt_mm</th>\n",
       "      <th>reanalysis_air_temp_k</th>\n",
       "      <th>reanalysis_avg_temp_k</th>\n",
       "      <th>reanalysis_dew_point_temp_k</th>\n",
       "      <th>reanalysis_max_air_temp_k</th>\n",
       "      <th>reanalysis_min_air_temp_k</th>\n",
       "      <th>reanalysis_precip_amt_kg_per_m2</th>\n",
       "      <th>reanalysis_relative_humidity_percent</th>\n",
       "      <th>reanalysis_sat_precip_amt_mm</th>\n",
       "      <th>reanalysis_specific_humidity_g_per_kg</th>\n",
       "      <th>reanalysis_tdtr_k</th>\n",
       "      <th>station_avg_temp_c</th>\n",
       "      <th>station_diur_temp_rng_c</th>\n",
       "      <th>station_max_temp_c</th>\n",
       "      <th>station_min_temp_c</th>\n",
       "      <th>station_precip_mm</th>\n",
       "    </tr>\n",
       "  </thead>\n",
       "  <tbody>\n",
       "    <tr>\n",
       "      <th>0</th>\n",
       "      <td>sj</td>\n",
       "      <td>1990</td>\n",
       "      <td>18</td>\n",
       "      <td>1990-04-30</td>\n",
       "      <td>0.1226</td>\n",
       "      <td>0.103725</td>\n",
       "      <td>0.198483</td>\n",
       "      <td>0.177617</td>\n",
       "      <td>12.42</td>\n",
       "      <td>297.572857</td>\n",
       "      <td>297.742857</td>\n",
       "      <td>292.414286</td>\n",
       "      <td>299.8</td>\n",
       "      <td>295.9</td>\n",
       "      <td>32.0</td>\n",
       "      <td>73.365714</td>\n",
       "      <td>12.42</td>\n",
       "      <td>14.012857</td>\n",
       "      <td>2.628571</td>\n",
       "      <td>25.442857</td>\n",
       "      <td>6.9</td>\n",
       "      <td>29.4</td>\n",
       "      <td>20.0</td>\n",
       "      <td>16.0</td>\n",
       "    </tr>\n",
       "  </tbody>\n",
       "</table>\n",
       "</div>"
      ],
      "text/plain": [
       "  city  year  weekofyear week_start_date  ndvi_ne   ndvi_nw   ndvi_se  \\\n",
       "0   sj  1990          18      1990-04-30   0.1226  0.103725  0.198483   \n",
       "\n",
       "    ndvi_sw  precipitation_amt_mm  reanalysis_air_temp_k  \\\n",
       "0  0.177617                 12.42             297.572857   \n",
       "\n",
       "   reanalysis_avg_temp_k  reanalysis_dew_point_temp_k  \\\n",
       "0             297.742857                   292.414286   \n",
       "\n",
       "   reanalysis_max_air_temp_k  reanalysis_min_air_temp_k  \\\n",
       "0                      299.8                      295.9   \n",
       "\n",
       "   reanalysis_precip_amt_kg_per_m2  reanalysis_relative_humidity_percent  \\\n",
       "0                             32.0                             73.365714   \n",
       "\n",
       "   reanalysis_sat_precip_amt_mm  reanalysis_specific_humidity_g_per_kg  \\\n",
       "0                         12.42                              14.012857   \n",
       "\n",
       "   reanalysis_tdtr_k  station_avg_temp_c  station_diur_temp_rng_c  \\\n",
       "0           2.628571           25.442857                      6.9   \n",
       "\n",
       "   station_max_temp_c  station_min_temp_c  station_precip_mm  \n",
       "0                29.4                20.0               16.0  "
      ]
     },
     "execution_count": 18,
     "metadata": {},
     "output_type": "execute_result"
    }
   ],
   "source": [
    "print(\"head of train\")\n",
    "train.head(1)"
   ]
  },
  {
   "cell_type": "code",
   "execution_count": 19,
   "metadata": {},
   "outputs": [
    {
     "data": {
      "text/plain": [
       "Index(['city', 'year', 'weekofyear', 'week_start_date', 'ndvi_ne', 'ndvi_nw',\n",
       "       'ndvi_se', 'ndvi_sw', 'precipitation_amt_mm', 'reanalysis_air_temp_k',\n",
       "       'reanalysis_avg_temp_k', 'reanalysis_dew_point_temp_k',\n",
       "       'reanalysis_max_air_temp_k', 'reanalysis_min_air_temp_k',\n",
       "       'reanalysis_precip_amt_kg_per_m2',\n",
       "       'reanalysis_relative_humidity_percent', 'reanalysis_sat_precip_amt_mm',\n",
       "       'reanalysis_specific_humidity_g_per_kg', 'reanalysis_tdtr_k',\n",
       "       'station_avg_temp_c', 'station_diur_temp_rng_c', 'station_max_temp_c',\n",
       "       'station_min_temp_c', 'station_precip_mm'],\n",
       "      dtype='object')"
      ]
     },
     "execution_count": 19,
     "metadata": {},
     "output_type": "execute_result"
    }
   ],
   "source": [
    "train.columns"
   ]
  },
  {
   "cell_type": "code",
   "execution_count": 20,
   "metadata": {},
   "outputs": [
    {
     "data": {
      "image/png": "[encoded data removed]",
      "text/plain": [
       "<Figure size 432x288 with 1 Axes>"
      ]
     },
     "metadata": {
      "needs_background": "light"
     },
     "output_type": "display_data"
    }
   ],
   "source": [
    "year_max_cases = train_labels.groupby(['year'])['total_cases'].agg('sum')\n",
    "\n",
    "#Visualizing it\n",
    "year_max_cases.plot(kind='bar')\n",
    "plt.xlabel('Year')\n",
    "plt.ylabel('Total Cases of Dengue')\n",
    "plt.yticks(np.arange(0,7500, step=500))\n",
    "plt.show()"
   ]
  },
  {
   "cell_type": "code",
   "execution_count": 13,
   "metadata": {},
   "outputs": [
    {
     "name": "stdout",
     "output_type": "stream",
     "text": [
      "head of train labels\n"
     ]
    },
    {
     "data": {
      "text/html": [
       "<div>\n",
       "<style scoped>\n",
       "    .dataframe tbody tr th:only-of-type {\n",
       "        vertical-align: middle;\n",
       "    }\n",
       "\n",
       "    .dataframe tbody tr th {\n",
       "        vertical-align: top;\n",
       "    }\n",
       "\n",
       "    .dataframe thead th {\n",
       "        text-align: right;\n",
       "    }\n",
       "</style>\n",
       "<table border=\"1\" class=\"dataframe\">\n",
       "  <thead>\n",
       "    <tr style=\"text-align: right;\">\n",
       "      <th></th>\n",
       "      <th>city</th>\n",
       "      <th>year</th>\n",
       "      <th>weekofyear</th>\n",
       "      <th>total_cases</th>\n",
       "    </tr>\n",
       "  </thead>\n",
       "  <tbody>\n",
       "    <tr>\n",
       "      <th>0</th>\n",
       "      <td>sj</td>\n",
       "      <td>1990</td>\n",
       "      <td>18</td>\n",
       "      <td>4</td>\n",
       "    </tr>\n",
       "  </tbody>\n",
       "</table>\n",
       "</div>"
      ],
      "text/plain": [
       "  city  year  weekofyear  total_cases\n",
       "0   sj  1990          18            4"
      ]
     },
     "execution_count": 13,
     "metadata": {},
     "output_type": "execute_result"
    }
   ],
   "source": [
    "print(\"head of train labels\")\n",
    "train_labels.head(1)"
   ]
  },
  {
   "cell_type": "markdown",
   "metadata": {},
   "source": [
    "Our problem statement is to predict the number of total case of dengue in a city given the predictors like minimum air temperature, maximum air temperature etc. which are present in the train dataframe. The total_cases is our target and it is present in the train_labels dataframe."
   ]
  },
  {
   "cell_type": "code",
   "execution_count": 6,
   "metadata": {},
   "outputs": [
    {
     "data": {
      "text/plain": [
       "0    4\n",
       "1    5\n",
       "2    4\n",
       "3    3\n",
       "4    6\n",
       "Name: total_cases, dtype: int64"
      ]
     },
     "execution_count": 6,
     "metadata": {},
     "output_type": "execute_result"
    }
   ],
   "source": [
    "train_target = train_labels['total_cases']\n",
    "train_target.head()"
   ]
  },
  {
   "cell_type": "markdown",
   "metadata": {},
   "source": [
    "The submission format demands that there is city, year, week of year in the submission file. That is why we are storing them for future submission"
   ]
  },
  {
   "cell_type": "code",
   "execution_count": 7,
   "metadata": {},
   "outputs": [],
   "source": [
    "test_city = test['city']\n",
    "test_year = test['year']\n",
    "test_weekofyear = test['weekofyear']"
   ]
  },
  {
   "cell_type": "markdown",
   "metadata": {},
   "source": [
    "Let us see the characteristics of the continuous predictors using the describe function"
   ]
  },
  {
   "cell_type": "code",
   "execution_count": 8,
   "metadata": {
    "scrolled": false
   },
   "outputs": [
    {
     "data": {
      "text/html": [
       "<div>\n",
       "<style scoped>\n",
       "    .dataframe tbody tr th:only-of-type {\n",
       "        vertical-align: middle;\n",
       "    }\n",
       "\n",
       "    .dataframe tbody tr th {\n",
       "        vertical-align: top;\n",
       "    }\n",
       "\n",
       "    .dataframe thead th {\n",
       "        text-align: right;\n",
       "    }\n",
       "</style>\n",
       "<table border=\"1\" class=\"dataframe\">\n",
       "  <thead>\n",
       "    <tr style=\"text-align: right;\">\n",
       "      <th></th>\n",
       "      <th>year</th>\n",
       "      <th>weekofyear</th>\n",
       "      <th>ndvi_ne</th>\n",
       "      <th>ndvi_nw</th>\n",
       "      <th>ndvi_se</th>\n",
       "      <th>ndvi_sw</th>\n",
       "      <th>precipitation_amt_mm</th>\n",
       "      <th>reanalysis_air_temp_k</th>\n",
       "      <th>reanalysis_avg_temp_k</th>\n",
       "      <th>reanalysis_dew_point_temp_k</th>\n",
       "      <th>reanalysis_max_air_temp_k</th>\n",
       "      <th>reanalysis_min_air_temp_k</th>\n",
       "      <th>reanalysis_precip_amt_kg_per_m2</th>\n",
       "      <th>reanalysis_relative_humidity_percent</th>\n",
       "      <th>reanalysis_sat_precip_amt_mm</th>\n",
       "      <th>reanalysis_specific_humidity_g_per_kg</th>\n",
       "      <th>reanalysis_tdtr_k</th>\n",
       "      <th>station_avg_temp_c</th>\n",
       "      <th>station_diur_temp_rng_c</th>\n",
       "      <th>station_max_temp_c</th>\n",
       "      <th>station_min_temp_c</th>\n",
       "      <th>station_precip_mm</th>\n",
       "    </tr>\n",
       "  </thead>\n",
       "  <tbody>\n",
       "    <tr>\n",
       "      <th>count</th>\n",
       "      <td>1456.000000</td>\n",
       "      <td>1456.000000</td>\n",
       "      <td>1262.000000</td>\n",
       "      <td>1404.000000</td>\n",
       "      <td>1434.000000</td>\n",
       "      <td>1434.000000</td>\n",
       "      <td>1443.000000</td>\n",
       "      <td>1446.000000</td>\n",
       "      <td>1446.000000</td>\n",
       "      <td>1446.000000</td>\n",
       "      <td>1446.000000</td>\n",
       "      <td>1446.000000</td>\n",
       "      <td>1446.000000</td>\n",
       "      <td>1446.000000</td>\n",
       "      <td>1443.000000</td>\n",
       "      <td>1446.000000</td>\n",
       "      <td>1446.000000</td>\n",
       "      <td>1413.000000</td>\n",
       "      <td>1413.000000</td>\n",
       "      <td>1436.000000</td>\n",
       "      <td>1442.000000</td>\n",
       "      <td>1434.000000</td>\n",
       "    </tr>\n",
       "    <tr>\n",
       "      <th>mean</th>\n",
       "      <td>2001.031593</td>\n",
       "      <td>26.503434</td>\n",
       "      <td>0.142294</td>\n",
       "      <td>0.130553</td>\n",
       "      <td>0.203783</td>\n",
       "      <td>0.202305</td>\n",
       "      <td>45.760388</td>\n",
       "      <td>298.701852</td>\n",
       "      <td>299.225578</td>\n",
       "      <td>295.246356</td>\n",
       "      <td>303.427109</td>\n",
       "      <td>295.719156</td>\n",
       "      <td>40.151819</td>\n",
       "      <td>82.161959</td>\n",
       "      <td>45.760388</td>\n",
       "      <td>16.746427</td>\n",
       "      <td>4.903754</td>\n",
       "      <td>27.185783</td>\n",
       "      <td>8.059328</td>\n",
       "      <td>32.452437</td>\n",
       "      <td>22.102150</td>\n",
       "      <td>39.326360</td>\n",
       "    </tr>\n",
       "    <tr>\n",
       "      <th>std</th>\n",
       "      <td>5.408314</td>\n",
       "      <td>15.019437</td>\n",
       "      <td>0.140531</td>\n",
       "      <td>0.119999</td>\n",
       "      <td>0.073860</td>\n",
       "      <td>0.083903</td>\n",
       "      <td>43.715537</td>\n",
       "      <td>1.362420</td>\n",
       "      <td>1.261715</td>\n",
       "      <td>1.527810</td>\n",
       "      <td>3.234601</td>\n",
       "      <td>2.565364</td>\n",
       "      <td>43.434399</td>\n",
       "      <td>7.153897</td>\n",
       "      <td>43.715537</td>\n",
       "      <td>1.542494</td>\n",
       "      <td>3.546445</td>\n",
       "      <td>1.292347</td>\n",
       "      <td>2.128568</td>\n",
       "      <td>1.959318</td>\n",
       "      <td>1.574066</td>\n",
       "      <td>47.455314</td>\n",
       "    </tr>\n",
       "    <tr>\n",
       "      <th>min</th>\n",
       "      <td>1990.000000</td>\n",
       "      <td>1.000000</td>\n",
       "      <td>-0.406250</td>\n",
       "      <td>-0.456100</td>\n",
       "      <td>-0.015533</td>\n",
       "      <td>-0.063457</td>\n",
       "      <td>0.000000</td>\n",
       "      <td>294.635714</td>\n",
       "      <td>294.892857</td>\n",
       "      <td>289.642857</td>\n",
       "      <td>297.800000</td>\n",
       "      <td>286.900000</td>\n",
       "      <td>0.000000</td>\n",
       "      <td>57.787143</td>\n",
       "      <td>0.000000</td>\n",
       "      <td>11.715714</td>\n",
       "      <td>1.357143</td>\n",
       "      <td>21.400000</td>\n",
       "      <td>4.528571</td>\n",
       "      <td>26.700000</td>\n",
       "      <td>14.700000</td>\n",
       "      <td>0.000000</td>\n",
       "    </tr>\n",
       "    <tr>\n",
       "      <th>25%</th>\n",
       "      <td>1997.000000</td>\n",
       "      <td>13.750000</td>\n",
       "      <td>0.044950</td>\n",
       "      <td>0.049217</td>\n",
       "      <td>0.155087</td>\n",
       "      <td>0.144209</td>\n",
       "      <td>9.800000</td>\n",
       "      <td>297.658929</td>\n",
       "      <td>298.257143</td>\n",
       "      <td>294.118929</td>\n",
       "      <td>301.000000</td>\n",
       "      <td>293.900000</td>\n",
       "      <td>13.055000</td>\n",
       "      <td>77.177143</td>\n",
       "      <td>9.800000</td>\n",
       "      <td>15.557143</td>\n",
       "      <td>2.328571</td>\n",
       "      <td>26.300000</td>\n",
       "      <td>6.514286</td>\n",
       "      <td>31.100000</td>\n",
       "      <td>21.100000</td>\n",
       "      <td>8.700000</td>\n",
       "    </tr>\n",
       "    <tr>\n",
       "      <th>50%</th>\n",
       "      <td>2002.000000</td>\n",
       "      <td>26.500000</td>\n",
       "      <td>0.128817</td>\n",
       "      <td>0.121429</td>\n",
       "      <td>0.196050</td>\n",
       "      <td>0.189450</td>\n",
       "      <td>38.340000</td>\n",
       "      <td>298.646429</td>\n",
       "      <td>299.289286</td>\n",
       "      <td>295.640714</td>\n",
       "      <td>302.400000</td>\n",
       "      <td>296.200000</td>\n",
       "      <td>27.245000</td>\n",
       "      <td>80.301429</td>\n",
       "      <td>38.340000</td>\n",
       "      <td>17.087143</td>\n",
       "      <td>2.857143</td>\n",
       "      <td>27.414286</td>\n",
       "      <td>7.300000</td>\n",
       "      <td>32.800000</td>\n",
       "      <td>22.200000</td>\n",
       "      <td>23.850000</td>\n",
       "    </tr>\n",
       "    <tr>\n",
       "      <th>75%</th>\n",
       "      <td>2005.000000</td>\n",
       "      <td>39.250000</td>\n",
       "      <td>0.248483</td>\n",
       "      <td>0.216600</td>\n",
       "      <td>0.248846</td>\n",
       "      <td>0.246982</td>\n",
       "      <td>70.235000</td>\n",
       "      <td>299.833571</td>\n",
       "      <td>300.207143</td>\n",
       "      <td>296.460000</td>\n",
       "      <td>305.500000</td>\n",
       "      <td>297.900000</td>\n",
       "      <td>52.200000</td>\n",
       "      <td>86.357857</td>\n",
       "      <td>70.235000</td>\n",
       "      <td>17.978214</td>\n",
       "      <td>7.625000</td>\n",
       "      <td>28.157143</td>\n",
       "      <td>9.566667</td>\n",
       "      <td>33.900000</td>\n",
       "      <td>23.300000</td>\n",
       "      <td>53.900000</td>\n",
       "    </tr>\n",
       "    <tr>\n",
       "      <th>max</th>\n",
       "      <td>2010.000000</td>\n",
       "      <td>53.000000</td>\n",
       "      <td>0.508357</td>\n",
       "      <td>0.454429</td>\n",
       "      <td>0.538314</td>\n",
       "      <td>0.546017</td>\n",
       "      <td>390.600000</td>\n",
       "      <td>302.200000</td>\n",
       "      <td>302.928571</td>\n",
       "      <td>298.450000</td>\n",
       "      <td>314.000000</td>\n",
       "      <td>299.900000</td>\n",
       "      <td>570.500000</td>\n",
       "      <td>98.610000</td>\n",
       "      <td>390.600000</td>\n",
       "      <td>20.461429</td>\n",
       "      <td>16.028571</td>\n",
       "      <td>30.800000</td>\n",
       "      <td>15.800000</td>\n",
       "      <td>42.200000</td>\n",
       "      <td>25.600000</td>\n",
       "      <td>543.300000</td>\n",
       "    </tr>\n",
       "  </tbody>\n",
       "</table>\n",
       "</div>"
      ],
      "text/plain": [
       "              year   weekofyear      ndvi_ne      ndvi_nw      ndvi_se  \\\n",
       "count  1456.000000  1456.000000  1262.000000  1404.000000  1434.000000   \n",
       "mean   2001.031593    26.503434     0.142294     0.130553     0.203783   \n",
       "std       5.408314    15.019437     0.140531     0.119999     0.073860   \n",
       "min    1990.000000     1.000000    -0.406250    -0.456100    -0.015533   \n",
       "25%    1997.000000    13.750000     0.044950     0.049217     0.155087   \n",
       "50%    2002.000000    26.500000     0.128817     0.121429     0.196050   \n",
       "75%    2005.000000    39.250000     0.248483     0.216600     0.248846   \n",
       "max    2010.000000    53.000000     0.508357     0.454429     0.538314   \n",
       "\n",
       "           ndvi_sw  precipitation_amt_mm  reanalysis_air_temp_k  \\\n",
       "count  1434.000000           1443.000000            1446.000000   \n",
       "mean      0.202305             45.760388             298.701852   \n",
       "std       0.083903             43.715537               1.362420   \n",
       "min      -0.063457              0.000000             294.635714   \n",
       "25%       0.144209              9.800000             297.658929   \n",
       "50%       0.189450             38.340000             298.646429   \n",
       "75%       0.246982             70.235000             299.833571   \n",
       "max       0.546017            390.600000             302.200000   \n",
       "\n",
       "       reanalysis_avg_temp_k  reanalysis_dew_point_temp_k  \\\n",
       "count            1446.000000                  1446.000000   \n",
       "mean              299.225578                   295.246356   \n",
       "std                 1.261715                     1.527810   \n",
       "min               294.892857                   289.642857   \n",
       "25%               298.257143                   294.118929   \n",
       "50%               299.289286                   295.640714   \n",
       "75%               300.207143                   296.460000   \n",
       "max               302.928571                   298.450000   \n",
       "\n",
       "       reanalysis_max_air_temp_k  reanalysis_min_air_temp_k  \\\n",
       "count                1446.000000                1446.000000   \n",
       "mean                  303.427109                 295.719156   \n",
       "std                     3.234601                   2.565364   \n",
       "min                   297.800000                 286.900000   \n",
       "25%                   301.000000                 293.900000   \n",
       "50%                   302.400000                 296.200000   \n",
       "75%                   305.500000                 297.900000   \n",
       "max                   314.000000                 299.900000   \n",
       "\n",
       "       reanalysis_precip_amt_kg_per_m2  reanalysis_relative_humidity_percent  \\\n",
       "count                      1446.000000                           1446.000000   \n",
       "mean                         40.151819                             82.161959   \n",
       "std                          43.434399                              7.153897   \n",
       "min                           0.000000                             57.787143   \n",
       "25%                          13.055000                             77.177143   \n",
       "50%                          27.245000                             80.301429   \n",
       "75%                          52.200000                             86.357857   \n",
       "max                         570.500000                             98.610000   \n",
       "\n",
       "       reanalysis_sat_precip_amt_mm  reanalysis_specific_humidity_g_per_kg  \\\n",
       "count                   1443.000000                            1446.000000   \n",
       "mean                      45.760388                              16.746427   \n",
       "std                       43.715537                               1.542494   \n",
       "min                        0.000000                              11.715714   \n",
       "25%                        9.800000                              15.557143   \n",
       "50%                       38.340000                              17.087143   \n",
       "75%                       70.235000                              17.978214   \n",
       "max                      390.600000                              20.461429   \n",
       "\n",
       "       reanalysis_tdtr_k  station_avg_temp_c  station_diur_temp_rng_c  \\\n",
       "count        1446.000000         1413.000000              1413.000000   \n",
       "mean            4.903754           27.185783                 8.059328   \n",
       "std             3.546445            1.292347                 2.128568   \n",
       "min             1.357143           21.400000                 4.528571   \n",
       "25%             2.328571           26.300000                 6.514286   \n",
       "50%             2.857143           27.414286                 7.300000   \n",
       "75%             7.625000           28.157143                 9.566667   \n",
       "max            16.028571           30.800000                15.800000   \n",
       "\n",
       "       station_max_temp_c  station_min_temp_c  station_precip_mm  \n",
       "count         1436.000000         1442.000000        1434.000000  \n",
       "mean            32.452437           22.102150          39.326360  \n",
       "std              1.959318            1.574066          47.455314  \n",
       "min             26.700000           14.700000           0.000000  \n",
       "25%             31.100000           21.100000           8.700000  \n",
       "50%             32.800000           22.200000          23.850000  \n",
       "75%             33.900000           23.300000          53.900000  \n",
       "max             42.200000           25.600000         543.300000  "
      ]
     },
     "execution_count": 8,
     "metadata": {},
     "output_type": "execute_result"
    }
   ],
   "source": [
    "train.describe()"
   ]
  },
  {
   "cell_type": "markdown",
   "metadata": {},
   "source": [
    "We can see that there are some missing values for some varibles in the train dataframe"
   ]
  },
  {
   "cell_type": "markdown",
   "metadata": {},
   "source": [
    "Let us see the characteristics of the continuous predictors using the describe function"
   ]
  },
  {
   "cell_type": "code",
   "execution_count": 9,
   "metadata": {},
   "outputs": [
    {
     "data": {
      "text/html": [
       "<div>\n",
       "<style scoped>\n",
       "    .dataframe tbody tr th:only-of-type {\n",
       "        vertical-align: middle;\n",
       "    }\n",
       "\n",
       "    .dataframe tbody tr th {\n",
       "        vertical-align: top;\n",
       "    }\n",
       "\n",
       "    .dataframe thead th {\n",
       "        text-align: right;\n",
       "    }\n",
       "</style>\n",
       "<table border=\"1\" class=\"dataframe\">\n",
       "  <thead>\n",
       "    <tr style=\"text-align: right;\">\n",
       "      <th></th>\n",
       "      <th>city</th>\n",
       "      <th>week_start_date</th>\n",
       "    </tr>\n",
       "  </thead>\n",
       "  <tbody>\n",
       "    <tr>\n",
       "      <th>count</th>\n",
       "      <td>1456</td>\n",
       "      <td>1456</td>\n",
       "    </tr>\n",
       "    <tr>\n",
       "      <th>unique</th>\n",
       "      <td>2</td>\n",
       "      <td>1049</td>\n",
       "    </tr>\n",
       "    <tr>\n",
       "      <th>top</th>\n",
       "      <td>sj</td>\n",
       "      <td>2004-03-04</td>\n",
       "    </tr>\n",
       "    <tr>\n",
       "      <th>freq</th>\n",
       "      <td>936</td>\n",
       "      <td>2</td>\n",
       "    </tr>\n",
       "  </tbody>\n",
       "</table>\n",
       "</div>"
      ],
      "text/plain": [
       "        city week_start_date\n",
       "count   1456            1456\n",
       "unique     2            1049\n",
       "top       sj      2004-03-04\n",
       "freq     936               2"
      ]
     },
     "execution_count": 9,
     "metadata": {},
     "output_type": "execute_result"
    }
   ],
   "source": [
    "train.describe(include = ['O'])"
   ]
  },
  {
   "cell_type": "markdown",
   "metadata": {},
   "source": [
    "There are some missing values in some variables in the test dataframe"
   ]
  },
  {
   "cell_type": "code",
   "execution_count": 10,
   "metadata": {
    "scrolled": false
   },
   "outputs": [
    {
     "data": {
      "text/html": [
       "<div>\n",
       "<style scoped>\n",
       "    .dataframe tbody tr th:only-of-type {\n",
       "        vertical-align: middle;\n",
       "    }\n",
       "\n",
       "    .dataframe tbody tr th {\n",
       "        vertical-align: top;\n",
       "    }\n",
       "\n",
       "    .dataframe thead th {\n",
       "        text-align: right;\n",
       "    }\n",
       "</style>\n",
       "<table border=\"1\" class=\"dataframe\">\n",
       "  <thead>\n",
       "    <tr style=\"text-align: right;\">\n",
       "      <th></th>\n",
       "      <th>year</th>\n",
       "      <th>weekofyear</th>\n",
       "      <th>ndvi_ne</th>\n",
       "      <th>ndvi_nw</th>\n",
       "      <th>ndvi_se</th>\n",
       "      <th>ndvi_sw</th>\n",
       "      <th>precipitation_amt_mm</th>\n",
       "      <th>reanalysis_air_temp_k</th>\n",
       "      <th>reanalysis_avg_temp_k</th>\n",
       "      <th>reanalysis_dew_point_temp_k</th>\n",
       "      <th>reanalysis_max_air_temp_k</th>\n",
       "      <th>reanalysis_min_air_temp_k</th>\n",
       "      <th>reanalysis_precip_amt_kg_per_m2</th>\n",
       "      <th>reanalysis_relative_humidity_percent</th>\n",
       "      <th>reanalysis_sat_precip_amt_mm</th>\n",
       "      <th>reanalysis_specific_humidity_g_per_kg</th>\n",
       "      <th>reanalysis_tdtr_k</th>\n",
       "      <th>station_avg_temp_c</th>\n",
       "      <th>station_diur_temp_rng_c</th>\n",
       "      <th>station_max_temp_c</th>\n",
       "      <th>station_min_temp_c</th>\n",
       "      <th>station_precip_mm</th>\n",
       "    </tr>\n",
       "  </thead>\n",
       "  <tbody>\n",
       "    <tr>\n",
       "      <th>count</th>\n",
       "      <td>416.000000</td>\n",
       "      <td>416.000000</td>\n",
       "      <td>373.000000</td>\n",
       "      <td>405.000000</td>\n",
       "      <td>415.000000</td>\n",
       "      <td>415.000000</td>\n",
       "      <td>414.000000</td>\n",
       "      <td>414.000000</td>\n",
       "      <td>414.000000</td>\n",
       "      <td>414.000000</td>\n",
       "      <td>414.000000</td>\n",
       "      <td>414.000000</td>\n",
       "      <td>414.000000</td>\n",
       "      <td>414.000000</td>\n",
       "      <td>414.000000</td>\n",
       "      <td>414.000000</td>\n",
       "      <td>414.000000</td>\n",
       "      <td>404.000000</td>\n",
       "      <td>404.000000</td>\n",
       "      <td>413.000000</td>\n",
       "      <td>407.000000</td>\n",
       "      <td>411.000000</td>\n",
       "    </tr>\n",
       "    <tr>\n",
       "      <th>mean</th>\n",
       "      <td>2010.766827</td>\n",
       "      <td>26.439904</td>\n",
       "      <td>0.126050</td>\n",
       "      <td>0.126803</td>\n",
       "      <td>0.207702</td>\n",
       "      <td>0.201721</td>\n",
       "      <td>38.354324</td>\n",
       "      <td>298.818295</td>\n",
       "      <td>299.353071</td>\n",
       "      <td>295.419179</td>\n",
       "      <td>303.623430</td>\n",
       "      <td>295.743478</td>\n",
       "      <td>42.171135</td>\n",
       "      <td>82.499810</td>\n",
       "      <td>38.354324</td>\n",
       "      <td>16.927088</td>\n",
       "      <td>5.124569</td>\n",
       "      <td>27.369587</td>\n",
       "      <td>7.810991</td>\n",
       "      <td>32.534625</td>\n",
       "      <td>22.368550</td>\n",
       "      <td>34.278589</td>\n",
       "    </tr>\n",
       "    <tr>\n",
       "      <th>std</th>\n",
       "      <td>1.434835</td>\n",
       "      <td>14.978257</td>\n",
       "      <td>0.164353</td>\n",
       "      <td>0.141420</td>\n",
       "      <td>0.079102</td>\n",
       "      <td>0.092028</td>\n",
       "      <td>35.171126</td>\n",
       "      <td>1.469501</td>\n",
       "      <td>1.306233</td>\n",
       "      <td>1.523099</td>\n",
       "      <td>3.101817</td>\n",
       "      <td>2.761109</td>\n",
       "      <td>48.909514</td>\n",
       "      <td>7.378243</td>\n",
       "      <td>35.171126</td>\n",
       "      <td>1.557868</td>\n",
       "      <td>3.542870</td>\n",
       "      <td>1.232608</td>\n",
       "      <td>2.449718</td>\n",
       "      <td>1.920429</td>\n",
       "      <td>1.731437</td>\n",
       "      <td>34.655966</td>\n",
       "    </tr>\n",
       "    <tr>\n",
       "      <th>min</th>\n",
       "      <td>2008.000000</td>\n",
       "      <td>1.000000</td>\n",
       "      <td>-0.463400</td>\n",
       "      <td>-0.211800</td>\n",
       "      <td>0.006200</td>\n",
       "      <td>-0.014671</td>\n",
       "      <td>0.000000</td>\n",
       "      <td>294.554286</td>\n",
       "      <td>295.235714</td>\n",
       "      <td>290.818571</td>\n",
       "      <td>298.200000</td>\n",
       "      <td>286.200000</td>\n",
       "      <td>0.000000</td>\n",
       "      <td>64.920000</td>\n",
       "      <td>0.000000</td>\n",
       "      <td>12.537143</td>\n",
       "      <td>1.485714</td>\n",
       "      <td>24.157143</td>\n",
       "      <td>4.042857</td>\n",
       "      <td>27.200000</td>\n",
       "      <td>14.200000</td>\n",
       "      <td>0.000000</td>\n",
       "    </tr>\n",
       "    <tr>\n",
       "      <th>25%</th>\n",
       "      <td>2010.000000</td>\n",
       "      <td>13.750000</td>\n",
       "      <td>-0.001500</td>\n",
       "      <td>0.015975</td>\n",
       "      <td>0.148670</td>\n",
       "      <td>0.134079</td>\n",
       "      <td>8.175000</td>\n",
       "      <td>297.751429</td>\n",
       "      <td>298.323214</td>\n",
       "      <td>294.335714</td>\n",
       "      <td>301.425000</td>\n",
       "      <td>293.500000</td>\n",
       "      <td>9.430000</td>\n",
       "      <td>77.397143</td>\n",
       "      <td>8.175000</td>\n",
       "      <td>15.792857</td>\n",
       "      <td>2.446429</td>\n",
       "      <td>26.514286</td>\n",
       "      <td>5.928571</td>\n",
       "      <td>31.100000</td>\n",
       "      <td>21.200000</td>\n",
       "      <td>9.100000</td>\n",
       "    </tr>\n",
       "    <tr>\n",
       "      <th>50%</th>\n",
       "      <td>2011.000000</td>\n",
       "      <td>26.000000</td>\n",
       "      <td>0.110100</td>\n",
       "      <td>0.088700</td>\n",
       "      <td>0.204171</td>\n",
       "      <td>0.186471</td>\n",
       "      <td>31.455000</td>\n",
       "      <td>298.547143</td>\n",
       "      <td>299.328571</td>\n",
       "      <td>295.825000</td>\n",
       "      <td>302.750000</td>\n",
       "      <td>296.300000</td>\n",
       "      <td>25.850000</td>\n",
       "      <td>80.330000</td>\n",
       "      <td>31.455000</td>\n",
       "      <td>17.337143</td>\n",
       "      <td>2.914286</td>\n",
       "      <td>27.483333</td>\n",
       "      <td>6.642857</td>\n",
       "      <td>32.800000</td>\n",
       "      <td>22.200000</td>\n",
       "      <td>23.600000</td>\n",
       "    </tr>\n",
       "    <tr>\n",
       "      <th>75%</th>\n",
       "      <td>2012.000000</td>\n",
       "      <td>39.000000</td>\n",
       "      <td>0.263329</td>\n",
       "      <td>0.242400</td>\n",
       "      <td>0.254871</td>\n",
       "      <td>0.253243</td>\n",
       "      <td>57.772500</td>\n",
       "      <td>300.240357</td>\n",
       "      <td>300.521429</td>\n",
       "      <td>296.643571</td>\n",
       "      <td>305.800000</td>\n",
       "      <td>298.275000</td>\n",
       "      <td>56.475000</td>\n",
       "      <td>88.328929</td>\n",
       "      <td>57.772500</td>\n",
       "      <td>18.174643</td>\n",
       "      <td>8.171429</td>\n",
       "      <td>28.319048</td>\n",
       "      <td>9.812500</td>\n",
       "      <td>33.900000</td>\n",
       "      <td>23.300000</td>\n",
       "      <td>47.750000</td>\n",
       "    </tr>\n",
       "    <tr>\n",
       "      <th>max</th>\n",
       "      <td>2013.000000</td>\n",
       "      <td>53.000000</td>\n",
       "      <td>0.500400</td>\n",
       "      <td>0.649000</td>\n",
       "      <td>0.453043</td>\n",
       "      <td>0.529043</td>\n",
       "      <td>169.340000</td>\n",
       "      <td>301.935714</td>\n",
       "      <td>303.328571</td>\n",
       "      <td>297.794286</td>\n",
       "      <td>314.100000</td>\n",
       "      <td>299.700000</td>\n",
       "      <td>301.400000</td>\n",
       "      <td>97.982857</td>\n",
       "      <td>169.340000</td>\n",
       "      <td>19.598571</td>\n",
       "      <td>14.485714</td>\n",
       "      <td>30.271429</td>\n",
       "      <td>14.725000</td>\n",
       "      <td>38.400000</td>\n",
       "      <td>26.700000</td>\n",
       "      <td>212.000000</td>\n",
       "    </tr>\n",
       "  </tbody>\n",
       "</table>\n",
       "</div>"
      ],
      "text/plain": [
       "              year  weekofyear     ndvi_ne     ndvi_nw     ndvi_se  \\\n",
       "count   416.000000  416.000000  373.000000  405.000000  415.000000   \n",
       "mean   2010.766827   26.439904    0.126050    0.126803    0.207702   \n",
       "std       1.434835   14.978257    0.164353    0.141420    0.079102   \n",
       "min    2008.000000    1.000000   -0.463400   -0.211800    0.006200   \n",
       "25%    2010.000000   13.750000   -0.001500    0.015975    0.148670   \n",
       "50%    2011.000000   26.000000    0.110100    0.088700    0.204171   \n",
       "75%    2012.000000   39.000000    0.263329    0.242400    0.254871   \n",
       "max    2013.000000   53.000000    0.500400    0.649000    0.453043   \n",
       "\n",
       "          ndvi_sw  precipitation_amt_mm  reanalysis_air_temp_k  \\\n",
       "count  415.000000            414.000000             414.000000   \n",
       "mean     0.201721             38.354324             298.818295   \n",
       "std      0.092028             35.171126               1.469501   \n",
       "min     -0.014671              0.000000             294.554286   \n",
       "25%      0.134079              8.175000             297.751429   \n",
       "50%      0.186471             31.455000             298.547143   \n",
       "75%      0.253243             57.772500             300.240357   \n",
       "max      0.529043            169.340000             301.935714   \n",
       "\n",
       "       reanalysis_avg_temp_k  reanalysis_dew_point_temp_k  \\\n",
       "count             414.000000                   414.000000   \n",
       "mean              299.353071                   295.419179   \n",
       "std                 1.306233                     1.523099   \n",
       "min               295.235714                   290.818571   \n",
       "25%               298.323214                   294.335714   \n",
       "50%               299.328571                   295.825000   \n",
       "75%               300.521429                   296.643571   \n",
       "max               303.328571                   297.794286   \n",
       "\n",
       "       reanalysis_max_air_temp_k  reanalysis_min_air_temp_k  \\\n",
       "count                 414.000000                 414.000000   \n",
       "mean                  303.623430                 295.743478   \n",
       "std                     3.101817                   2.761109   \n",
       "min                   298.200000                 286.200000   \n",
       "25%                   301.425000                 293.500000   \n",
       "50%                   302.750000                 296.300000   \n",
       "75%                   305.800000                 298.275000   \n",
       "max                   314.100000                 299.700000   \n",
       "\n",
       "       reanalysis_precip_amt_kg_per_m2  reanalysis_relative_humidity_percent  \\\n",
       "count                       414.000000                            414.000000   \n",
       "mean                         42.171135                             82.499810   \n",
       "std                          48.909514                              7.378243   \n",
       "min                           0.000000                             64.920000   \n",
       "25%                           9.430000                             77.397143   \n",
       "50%                          25.850000                             80.330000   \n",
       "75%                          56.475000                             88.328929   \n",
       "max                         301.400000                             97.982857   \n",
       "\n",
       "       reanalysis_sat_precip_amt_mm  reanalysis_specific_humidity_g_per_kg  \\\n",
       "count                    414.000000                             414.000000   \n",
       "mean                      38.354324                              16.927088   \n",
       "std                       35.171126                               1.557868   \n",
       "min                        0.000000                              12.537143   \n",
       "25%                        8.175000                              15.792857   \n",
       "50%                       31.455000                              17.337143   \n",
       "75%                       57.772500                              18.174643   \n",
       "max                      169.340000                              19.598571   \n",
       "\n",
       "       reanalysis_tdtr_k  station_avg_temp_c  station_diur_temp_rng_c  \\\n",
       "count         414.000000          404.000000               404.000000   \n",
       "mean            5.124569           27.369587                 7.810991   \n",
       "std             3.542870            1.232608                 2.449718   \n",
       "min             1.485714           24.157143                 4.042857   \n",
       "25%             2.446429           26.514286                 5.928571   \n",
       "50%             2.914286           27.483333                 6.642857   \n",
       "75%             8.171429           28.319048                 9.812500   \n",
       "max            14.485714           30.271429                14.725000   \n",
       "\n",
       "       station_max_temp_c  station_min_temp_c  station_precip_mm  \n",
       "count          413.000000          407.000000         411.000000  \n",
       "mean            32.534625           22.368550          34.278589  \n",
       "std              1.920429            1.731437          34.655966  \n",
       "min             27.200000           14.200000           0.000000  \n",
       "25%             31.100000           21.200000           9.100000  \n",
       "50%             32.800000           22.200000          23.600000  \n",
       "75%             33.900000           23.300000          47.750000  \n",
       "max             38.400000           26.700000         212.000000  "
      ]
     },
     "execution_count": 10,
     "metadata": {},
     "output_type": "execute_result"
    }
   ],
   "source": [
    "test.describe()"
   ]
  },
  {
   "cell_type": "code",
   "execution_count": 11,
   "metadata": {},
   "outputs": [
    {
     "data": {
      "text/html": [
       "<div>\n",
       "<style scoped>\n",
       "    .dataframe tbody tr th:only-of-type {\n",
       "        vertical-align: middle;\n",
       "    }\n",
       "\n",
       "    .dataframe tbody tr th {\n",
       "        vertical-align: top;\n",
       "    }\n",
       "\n",
       "    .dataframe thead th {\n",
       "        text-align: right;\n",
       "    }\n",
       "</style>\n",
       "<table border=\"1\" class=\"dataframe\">\n",
       "  <thead>\n",
       "    <tr style=\"text-align: right;\">\n",
       "      <th></th>\n",
       "      <th>city</th>\n",
       "      <th>week_start_date</th>\n",
       "    </tr>\n",
       "  </thead>\n",
       "  <tbody>\n",
       "    <tr>\n",
       "      <th>count</th>\n",
       "      <td>416</td>\n",
       "      <td>416</td>\n",
       "    </tr>\n",
       "    <tr>\n",
       "      <th>unique</th>\n",
       "      <td>2</td>\n",
       "      <td>269</td>\n",
       "    </tr>\n",
       "    <tr>\n",
       "      <th>top</th>\n",
       "      <td>sj</td>\n",
       "      <td>2011-04-02</td>\n",
       "    </tr>\n",
       "    <tr>\n",
       "      <th>freq</th>\n",
       "      <td>260</td>\n",
       "      <td>2</td>\n",
       "    </tr>\n",
       "  </tbody>\n",
       "</table>\n",
       "</div>"
      ],
      "text/plain": [
       "       city week_start_date\n",
       "count   416             416\n",
       "unique    2             269\n",
       "top      sj      2011-04-02\n",
       "freq    260               2"
      ]
     },
     "execution_count": 11,
     "metadata": {},
     "output_type": "execute_result"
    }
   ],
   "source": [
    "test.describe(include = ['O'])"
   ]
  },
  {
   "cell_type": "markdown",
   "metadata": {},
   "source": [
    "There are lots of missing values in the dataset. We are going to fill the missing values with the median but first of all we are going to merge train and test dataset"
   ]
  },
  {
   "cell_type": "markdown",
   "metadata": {},
   "source": [
    "Let us join the train and the test dataframe so as to prevent doing the same operation on the two dataframes separately"
   ]
  },
  {
   "cell_type": "code",
   "execution_count": 12,
   "metadata": {},
   "outputs": [],
   "source": [
    "df = train.append(test, ignore_index = True)"
   ]
  },
  {
   "cell_type": "code",
   "execution_count": 13,
   "metadata": {},
   "outputs": [],
   "source": [
    "cats = []\n",
    "for col in df.columns.values:\n",
    "    if df[col].dtype == 'object':\n",
    "        cats.append(col)\n",
    "df_cat = df[cats]\n",
    "df_cont = df.drop(cats, axis=1)"
   ]
  },
  {
   "cell_type": "markdown",
   "metadata": {},
   "source": [
    "Filling the missing values of the continuous variables with the median"
   ]
  },
  {
   "cell_type": "code",
   "execution_count": 14,
   "metadata": {},
   "outputs": [],
   "source": [
    "for col in df_cont.columns.values:\n",
    "    df_cont[col] = df_cont[col].fillna(df[col].median())"
   ]
  },
  {
   "cell_type": "markdown",
   "metadata": {},
   "source": [
    "Filling the missing values of the categorical variables with the most frequent value"
   ]
  },
  {
   "cell_type": "code",
   "execution_count": 15,
   "metadata": {},
   "outputs": [],
   "source": [
    "for col in df_cat.columns.values:\n",
    "    df_cat[col] = df_cat[col].fillna(df_cat[col].value_counts().index[0])"
   ]
  },
  {
   "cell_type": "code",
   "execution_count": 16,
   "metadata": {},
   "outputs": [
    {
     "data": {
      "text/html": [
       "<div>\n",
       "<style scoped>\n",
       "    .dataframe tbody tr th:only-of-type {\n",
       "        vertical-align: middle;\n",
       "    }\n",
       "\n",
       "    .dataframe tbody tr th {\n",
       "        vertical-align: top;\n",
       "    }\n",
       "\n",
       "    .dataframe thead th {\n",
       "        text-align: right;\n",
       "    }\n",
       "</style>\n",
       "<table border=\"1\" class=\"dataframe\">\n",
       "  <thead>\n",
       "    <tr style=\"text-align: right;\">\n",
       "      <th></th>\n",
       "      <th>year</th>\n",
       "      <th>weekofyear</th>\n",
       "      <th>ndvi_ne</th>\n",
       "      <th>ndvi_nw</th>\n",
       "      <th>ndvi_se</th>\n",
       "      <th>ndvi_sw</th>\n",
       "      <th>precipitation_amt_mm</th>\n",
       "      <th>reanalysis_air_temp_k</th>\n",
       "      <th>reanalysis_avg_temp_k</th>\n",
       "      <th>reanalysis_dew_point_temp_k</th>\n",
       "      <th>reanalysis_max_air_temp_k</th>\n",
       "      <th>reanalysis_min_air_temp_k</th>\n",
       "      <th>reanalysis_precip_amt_kg_per_m2</th>\n",
       "      <th>reanalysis_relative_humidity_percent</th>\n",
       "      <th>reanalysis_sat_precip_amt_mm</th>\n",
       "      <th>reanalysis_specific_humidity_g_per_kg</th>\n",
       "      <th>reanalysis_tdtr_k</th>\n",
       "      <th>station_avg_temp_c</th>\n",
       "      <th>station_diur_temp_rng_c</th>\n",
       "      <th>station_max_temp_c</th>\n",
       "      <th>station_min_temp_c</th>\n",
       "      <th>station_precip_mm</th>\n",
       "    </tr>\n",
       "  </thead>\n",
       "  <tbody>\n",
       "    <tr>\n",
       "      <th>count</th>\n",
       "      <td>1872.000000</td>\n",
       "      <td>1872.000000</td>\n",
       "      <td>1872.000000</td>\n",
       "      <td>1872.000000</td>\n",
       "      <td>1872.000000</td>\n",
       "      <td>1872.000000</td>\n",
       "      <td>1872.000000</td>\n",
       "      <td>1872.000000</td>\n",
       "      <td>1872.000000</td>\n",
       "      <td>1872.000000</td>\n",
       "      <td>1872.000000</td>\n",
       "      <td>1872.000000</td>\n",
       "      <td>1872.000000</td>\n",
       "      <td>1872.000000</td>\n",
       "      <td>1872.000000</td>\n",
       "      <td>1872.000000</td>\n",
       "      <td>1872.000000</td>\n",
       "      <td>1872.000000</td>\n",
       "      <td>1872.000000</td>\n",
       "      <td>1872.000000</td>\n",
       "      <td>1872.000000</td>\n",
       "      <td>1872.000000</td>\n",
       "    </tr>\n",
       "    <tr>\n",
       "      <th>mean</th>\n",
       "      <td>2003.194979</td>\n",
       "      <td>26.489316</td>\n",
       "      <td>0.137161</td>\n",
       "      <td>0.129225</td>\n",
       "      <td>0.204569</td>\n",
       "      <td>0.202003</td>\n",
       "      <td>44.049428</td>\n",
       "      <td>298.727061</td>\n",
       "      <td>299.254251</td>\n",
       "      <td>295.287274</td>\n",
       "      <td>303.465224</td>\n",
       "      <td>295.727618</td>\n",
       "      <td>40.514605</td>\n",
       "      <td>82.224786</td>\n",
       "      <td>44.049428</td>\n",
       "      <td>16.788885</td>\n",
       "      <td>4.939560</td>\n",
       "      <td>27.232723</td>\n",
       "      <td>7.980486</td>\n",
       "      <td>32.474840</td>\n",
       "      <td>22.161271</td>\n",
       "      <td>37.994177</td>\n",
       "    </tr>\n",
       "    <tr>\n",
       "      <th>std</th>\n",
       "      <td>6.292268</td>\n",
       "      <td>15.006319</td>\n",
       "      <td>0.136878</td>\n",
       "      <td>0.122986</td>\n",
       "      <td>0.074606</td>\n",
       "      <td>0.085253</td>\n",
       "      <td>41.902200</td>\n",
       "      <td>1.382982</td>\n",
       "      <td>1.268428</td>\n",
       "      <td>1.523444</td>\n",
       "      <td>3.196198</td>\n",
       "      <td>2.601357</td>\n",
       "      <td>44.574757</td>\n",
       "      <td>7.182317</td>\n",
       "      <td>41.902200</td>\n",
       "      <td>1.542620</td>\n",
       "      <td>3.538402</td>\n",
       "      <td>1.262765</td>\n",
       "      <td>2.177313</td>\n",
       "      <td>1.938797</td>\n",
       "      <td>1.603384</td>\n",
       "      <td>44.668800</td>\n",
       "    </tr>\n",
       "    <tr>\n",
       "      <th>min</th>\n",
       "      <td>1990.000000</td>\n",
       "      <td>1.000000</td>\n",
       "      <td>-0.463400</td>\n",
       "      <td>-0.456100</td>\n",
       "      <td>-0.015533</td>\n",
       "      <td>-0.063457</td>\n",
       "      <td>0.000000</td>\n",
       "      <td>294.554286</td>\n",
       "      <td>294.892857</td>\n",
       "      <td>289.642857</td>\n",
       "      <td>297.800000</td>\n",
       "      <td>286.200000</td>\n",
       "      <td>0.000000</td>\n",
       "      <td>57.787143</td>\n",
       "      <td>0.000000</td>\n",
       "      <td>11.715714</td>\n",
       "      <td>1.357143</td>\n",
       "      <td>21.400000</td>\n",
       "      <td>4.042857</td>\n",
       "      <td>26.700000</td>\n",
       "      <td>14.200000</td>\n",
       "      <td>0.000000</td>\n",
       "    </tr>\n",
       "    <tr>\n",
       "      <th>25%</th>\n",
       "      <td>1999.000000</td>\n",
       "      <td>13.750000</td>\n",
       "      <td>0.049025</td>\n",
       "      <td>0.044000</td>\n",
       "      <td>0.153875</td>\n",
       "      <td>0.141671</td>\n",
       "      <td>9.530000</td>\n",
       "      <td>297.683929</td>\n",
       "      <td>298.283929</td>\n",
       "      <td>294.182500</td>\n",
       "      <td>301.000000</td>\n",
       "      <td>293.800000</td>\n",
       "      <td>12.500000</td>\n",
       "      <td>77.245000</td>\n",
       "      <td>9.530000</td>\n",
       "      <td>15.595714</td>\n",
       "      <td>2.357143</td>\n",
       "      <td>26.410714</td>\n",
       "      <td>6.371429</td>\n",
       "      <td>31.100000</td>\n",
       "      <td>21.100000</td>\n",
       "      <td>8.900000</td>\n",
       "    </tr>\n",
       "    <tr>\n",
       "      <th>50%</th>\n",
       "      <td>2004.000000</td>\n",
       "      <td>26.000000</td>\n",
       "      <td>0.127317</td>\n",
       "      <td>0.115200</td>\n",
       "      <td>0.197029</td>\n",
       "      <td>0.188229</td>\n",
       "      <td>36.640000</td>\n",
       "      <td>298.617143</td>\n",
       "      <td>299.300000</td>\n",
       "      <td>295.667143</td>\n",
       "      <td>302.600000</td>\n",
       "      <td>296.200000</td>\n",
       "      <td>27.080000</td>\n",
       "      <td>80.307143</td>\n",
       "      <td>36.640000</td>\n",
       "      <td>17.137143</td>\n",
       "      <td>2.871429</td>\n",
       "      <td>27.433333</td>\n",
       "      <td>7.200000</td>\n",
       "      <td>32.800000</td>\n",
       "      <td>22.200000</td>\n",
       "      <td>23.800000</td>\n",
       "    </tr>\n",
       "    <tr>\n",
       "      <th>75%</th>\n",
       "      <td>2008.000000</td>\n",
       "      <td>39.000000</td>\n",
       "      <td>0.234800</td>\n",
       "      <td>0.217529</td>\n",
       "      <td>0.250100</td>\n",
       "      <td>0.247235</td>\n",
       "      <td>66.562500</td>\n",
       "      <td>299.886071</td>\n",
       "      <td>300.264286</td>\n",
       "      <td>296.500000</td>\n",
       "      <td>305.500000</td>\n",
       "      <td>298.000000</td>\n",
       "      <td>52.700000</td>\n",
       "      <td>86.755714</td>\n",
       "      <td>66.562500</td>\n",
       "      <td>18.018929</td>\n",
       "      <td>7.732143</td>\n",
       "      <td>28.157143</td>\n",
       "      <td>9.550000</td>\n",
       "      <td>33.900000</td>\n",
       "      <td>23.300000</td>\n",
       "      <td>51.000000</td>\n",
       "    </tr>\n",
       "    <tr>\n",
       "      <th>max</th>\n",
       "      <td>2013.000000</td>\n",
       "      <td>53.000000</td>\n",
       "      <td>0.508357</td>\n",
       "      <td>0.649000</td>\n",
       "      <td>0.538314</td>\n",
       "      <td>0.546017</td>\n",
       "      <td>390.600000</td>\n",
       "      <td>302.200000</td>\n",
       "      <td>303.328571</td>\n",
       "      <td>298.450000</td>\n",
       "      <td>314.100000</td>\n",
       "      <td>299.900000</td>\n",
       "      <td>570.500000</td>\n",
       "      <td>98.610000</td>\n",
       "      <td>390.600000</td>\n",
       "      <td>20.461429</td>\n",
       "      <td>16.028571</td>\n",
       "      <td>30.800000</td>\n",
       "      <td>15.800000</td>\n",
       "      <td>42.200000</td>\n",
       "      <td>26.700000</td>\n",
       "      <td>543.300000</td>\n",
       "    </tr>\n",
       "  </tbody>\n",
       "</table>\n",
       "</div>"
      ],
      "text/plain": [
       "              year   weekofyear      ndvi_ne      ndvi_nw      ndvi_se  \\\n",
       "count  1872.000000  1872.000000  1872.000000  1872.000000  1872.000000   \n",
       "mean   2003.194979    26.489316     0.137161     0.129225     0.204569   \n",
       "std       6.292268    15.006319     0.136878     0.122986     0.074606   \n",
       "min    1990.000000     1.000000    -0.463400    -0.456100    -0.015533   \n",
       "25%    1999.000000    13.750000     0.049025     0.044000     0.153875   \n",
       "50%    2004.000000    26.000000     0.127317     0.115200     0.197029   \n",
       "75%    2008.000000    39.000000     0.234800     0.217529     0.250100   \n",
       "max    2013.000000    53.000000     0.508357     0.649000     0.538314   \n",
       "\n",
       "           ndvi_sw  precipitation_amt_mm  reanalysis_air_temp_k  \\\n",
       "count  1872.000000           1872.000000            1872.000000   \n",
       "mean      0.202003             44.049428             298.727061   \n",
       "std       0.085253             41.902200               1.382982   \n",
       "min      -0.063457              0.000000             294.554286   \n",
       "25%       0.141671              9.530000             297.683929   \n",
       "50%       0.188229             36.640000             298.617143   \n",
       "75%       0.247235             66.562500             299.886071   \n",
       "max       0.546017            390.600000             302.200000   \n",
       "\n",
       "       reanalysis_avg_temp_k  reanalysis_dew_point_temp_k  \\\n",
       "count            1872.000000                  1872.000000   \n",
       "mean              299.254251                   295.287274   \n",
       "std                 1.268428                     1.523444   \n",
       "min               294.892857                   289.642857   \n",
       "25%               298.283929                   294.182500   \n",
       "50%               299.300000                   295.667143   \n",
       "75%               300.264286                   296.500000   \n",
       "max               303.328571                   298.450000   \n",
       "\n",
       "       reanalysis_max_air_temp_k  reanalysis_min_air_temp_k  \\\n",
       "count                1872.000000                1872.000000   \n",
       "mean                  303.465224                 295.727618   \n",
       "std                     3.196198                   2.601357   \n",
       "min                   297.800000                 286.200000   \n",
       "25%                   301.000000                 293.800000   \n",
       "50%                   302.600000                 296.200000   \n",
       "75%                   305.500000                 298.000000   \n",
       "max                   314.100000                 299.900000   \n",
       "\n",
       "       reanalysis_precip_amt_kg_per_m2  reanalysis_relative_humidity_percent  \\\n",
       "count                      1872.000000                           1872.000000   \n",
       "mean                         40.514605                             82.224786   \n",
       "std                          44.574757                              7.182317   \n",
       "min                           0.000000                             57.787143   \n",
       "25%                          12.500000                             77.245000   \n",
       "50%                          27.080000                             80.307143   \n",
       "75%                          52.700000                             86.755714   \n",
       "max                         570.500000                             98.610000   \n",
       "\n",
       "       reanalysis_sat_precip_amt_mm  reanalysis_specific_humidity_g_per_kg  \\\n",
       "count                   1872.000000                            1872.000000   \n",
       "mean                      44.049428                              16.788885   \n",
       "std                       41.902200                               1.542620   \n",
       "min                        0.000000                              11.715714   \n",
       "25%                        9.530000                              15.595714   \n",
       "50%                       36.640000                              17.137143   \n",
       "75%                       66.562500                              18.018929   \n",
       "max                      390.600000                              20.461429   \n",
       "\n",
       "       reanalysis_tdtr_k  station_avg_temp_c  station_diur_temp_rng_c  \\\n",
       "count        1872.000000         1872.000000              1872.000000   \n",
       "mean            4.939560           27.232723                 7.980486   \n",
       "std             3.538402            1.262765                 2.177313   \n",
       "min             1.357143           21.400000                 4.042857   \n",
       "25%             2.357143           26.410714                 6.371429   \n",
       "50%             2.871429           27.433333                 7.200000   \n",
       "75%             7.732143           28.157143                 9.550000   \n",
       "max            16.028571           30.800000                15.800000   \n",
       "\n",
       "       station_max_temp_c  station_min_temp_c  station_precip_mm  \n",
       "count         1872.000000         1872.000000        1872.000000  \n",
       "mean            32.474840           22.161271          37.994177  \n",
       "std              1.938797            1.603384          44.668800  \n",
       "min             26.700000           14.200000           0.000000  \n",
       "25%             31.100000           21.100000           8.900000  \n",
       "50%             32.800000           22.200000          23.800000  \n",
       "75%             33.900000           23.300000          51.000000  \n",
       "max             42.200000           26.700000         543.300000  "
      ]
     },
     "execution_count": 16,
     "metadata": {},
     "output_type": "execute_result"
    }
   ],
   "source": [
    "df_cont.describe()"
   ]
  },
  {
   "cell_type": "code",
   "execution_count": 17,
   "metadata": {},
   "outputs": [
    {
     "data": {
      "text/html": [
       "<div>\n",
       "<style scoped>\n",
       "    .dataframe tbody tr th:only-of-type {\n",
       "        vertical-align: middle;\n",
       "    }\n",
       "\n",
       "    .dataframe tbody tr th {\n",
       "        vertical-align: top;\n",
       "    }\n",
       "\n",
       "    .dataframe thead th {\n",
       "        text-align: right;\n",
       "    }\n",
       "</style>\n",
       "<table border=\"1\" class=\"dataframe\">\n",
       "  <thead>\n",
       "    <tr style=\"text-align: right;\">\n",
       "      <th></th>\n",
       "      <th>city</th>\n",
       "      <th>week_start_date</th>\n",
       "    </tr>\n",
       "  </thead>\n",
       "  <tbody>\n",
       "    <tr>\n",
       "      <th>0</th>\n",
       "      <td>sj</td>\n",
       "      <td>1990-04-30</td>\n",
       "    </tr>\n",
       "    <tr>\n",
       "      <th>1</th>\n",
       "      <td>sj</td>\n",
       "      <td>1990-05-07</td>\n",
       "    </tr>\n",
       "    <tr>\n",
       "      <th>2</th>\n",
       "      <td>sj</td>\n",
       "      <td>1990-05-14</td>\n",
       "    </tr>\n",
       "    <tr>\n",
       "      <th>3</th>\n",
       "      <td>sj</td>\n",
       "      <td>1990-05-21</td>\n",
       "    </tr>\n",
       "    <tr>\n",
       "      <th>4</th>\n",
       "      <td>sj</td>\n",
       "      <td>1990-05-28</td>\n",
       "    </tr>\n",
       "  </tbody>\n",
       "</table>\n",
       "</div>"
      ],
      "text/plain": [
       "  city week_start_date\n",
       "0   sj      1990-04-30\n",
       "1   sj      1990-05-07\n",
       "2   sj      1990-05-14\n",
       "3   sj      1990-05-21\n",
       "4   sj      1990-05-28"
      ]
     },
     "execution_count": 17,
     "metadata": {},
     "output_type": "execute_result"
    }
   ],
   "source": [
    "df_cat.head()"
   ]
  },
  {
   "cell_type": "markdown",
   "metadata": {},
   "source": [
    "Let us drop the week_start_date variable. Its information has already been captured in the year and week of year variable"
   ]
  },
  {
   "cell_type": "code",
   "execution_count": 18,
   "metadata": {
    "scrolled": true
   },
   "outputs": [],
   "source": [
    "df_cat = df_cat.drop(['week_start_date'], axis = 1)"
   ]
  },
  {
   "cell_type": "code",
   "execution_count": 19,
   "metadata": {},
   "outputs": [],
   "source": [
    "df_cat = pd.get_dummies(df_cat)"
   ]
  },
  {
   "cell_type": "code",
   "execution_count": 20,
   "metadata": {},
   "outputs": [
    {
     "data": {
      "text/plain": [
       "(1872, 24)"
      ]
     },
     "execution_count": 20,
     "metadata": {},
     "output_type": "execute_result"
    }
   ],
   "source": [
    "df = df_cont.join(df_cat)\n",
    "df.shape"
   ]
  },
  {
   "cell_type": "code",
   "execution_count": 21,
   "metadata": {},
   "outputs": [
    {
     "data": {
      "text/html": [
       "<div>\n",
       "<style scoped>\n",
       "    .dataframe tbody tr th:only-of-type {\n",
       "        vertical-align: middle;\n",
       "    }\n",
       "\n",
       "    .dataframe tbody tr th {\n",
       "        vertical-align: top;\n",
       "    }\n",
       "\n",
       "    .dataframe thead th {\n",
       "        text-align: right;\n",
       "    }\n",
       "</style>\n",
       "<table border=\"1\" class=\"dataframe\">\n",
       "  <thead>\n",
       "    <tr style=\"text-align: right;\">\n",
       "      <th></th>\n",
       "      <th>year</th>\n",
       "      <th>weekofyear</th>\n",
       "      <th>ndvi_ne</th>\n",
       "      <th>ndvi_nw</th>\n",
       "      <th>ndvi_se</th>\n",
       "      <th>ndvi_sw</th>\n",
       "      <th>precipitation_amt_mm</th>\n",
       "      <th>reanalysis_air_temp_k</th>\n",
       "      <th>reanalysis_avg_temp_k</th>\n",
       "      <th>reanalysis_dew_point_temp_k</th>\n",
       "      <th>reanalysis_max_air_temp_k</th>\n",
       "      <th>reanalysis_min_air_temp_k</th>\n",
       "      <th>reanalysis_precip_amt_kg_per_m2</th>\n",
       "      <th>reanalysis_relative_humidity_percent</th>\n",
       "      <th>reanalysis_sat_precip_amt_mm</th>\n",
       "      <th>reanalysis_specific_humidity_g_per_kg</th>\n",
       "      <th>reanalysis_tdtr_k</th>\n",
       "      <th>station_avg_temp_c</th>\n",
       "      <th>station_diur_temp_rng_c</th>\n",
       "      <th>station_max_temp_c</th>\n",
       "      <th>station_min_temp_c</th>\n",
       "      <th>station_precip_mm</th>\n",
       "      <th>city_iq</th>\n",
       "      <th>city_sj</th>\n",
       "    </tr>\n",
       "  </thead>\n",
       "  <tbody>\n",
       "    <tr>\n",
       "      <th>0</th>\n",
       "      <td>1990</td>\n",
       "      <td>18</td>\n",
       "      <td>0.122600</td>\n",
       "      <td>0.103725</td>\n",
       "      <td>0.198483</td>\n",
       "      <td>0.177617</td>\n",
       "      <td>12.42</td>\n",
       "      <td>297.572857</td>\n",
       "      <td>297.742857</td>\n",
       "      <td>292.414286</td>\n",
       "      <td>299.8</td>\n",
       "      <td>295.9</td>\n",
       "      <td>32.00</td>\n",
       "      <td>73.365714</td>\n",
       "      <td>12.42</td>\n",
       "      <td>14.012857</td>\n",
       "      <td>2.628571</td>\n",
       "      <td>25.442857</td>\n",
       "      <td>6.900000</td>\n",
       "      <td>29.4</td>\n",
       "      <td>20.0</td>\n",
       "      <td>16.0</td>\n",
       "      <td>0</td>\n",
       "      <td>1</td>\n",
       "    </tr>\n",
       "    <tr>\n",
       "      <th>1</th>\n",
       "      <td>1990</td>\n",
       "      <td>19</td>\n",
       "      <td>0.169900</td>\n",
       "      <td>0.142175</td>\n",
       "      <td>0.162357</td>\n",
       "      <td>0.155486</td>\n",
       "      <td>22.82</td>\n",
       "      <td>298.211429</td>\n",
       "      <td>298.442857</td>\n",
       "      <td>293.951429</td>\n",
       "      <td>300.9</td>\n",
       "      <td>296.4</td>\n",
       "      <td>17.94</td>\n",
       "      <td>77.368571</td>\n",
       "      <td>22.82</td>\n",
       "      <td>15.372857</td>\n",
       "      <td>2.371429</td>\n",
       "      <td>26.714286</td>\n",
       "      <td>6.371429</td>\n",
       "      <td>31.7</td>\n",
       "      <td>22.2</td>\n",
       "      <td>8.6</td>\n",
       "      <td>0</td>\n",
       "      <td>1</td>\n",
       "    </tr>\n",
       "    <tr>\n",
       "      <th>2</th>\n",
       "      <td>1990</td>\n",
       "      <td>20</td>\n",
       "      <td>0.032250</td>\n",
       "      <td>0.172967</td>\n",
       "      <td>0.157200</td>\n",
       "      <td>0.170843</td>\n",
       "      <td>34.54</td>\n",
       "      <td>298.781429</td>\n",
       "      <td>298.878571</td>\n",
       "      <td>295.434286</td>\n",
       "      <td>300.5</td>\n",
       "      <td>297.3</td>\n",
       "      <td>26.10</td>\n",
       "      <td>82.052857</td>\n",
       "      <td>34.54</td>\n",
       "      <td>16.848571</td>\n",
       "      <td>2.300000</td>\n",
       "      <td>26.714286</td>\n",
       "      <td>6.485714</td>\n",
       "      <td>32.2</td>\n",
       "      <td>22.8</td>\n",
       "      <td>41.4</td>\n",
       "      <td>0</td>\n",
       "      <td>1</td>\n",
       "    </tr>\n",
       "    <tr>\n",
       "      <th>3</th>\n",
       "      <td>1990</td>\n",
       "      <td>21</td>\n",
       "      <td>0.128633</td>\n",
       "      <td>0.245067</td>\n",
       "      <td>0.227557</td>\n",
       "      <td>0.235886</td>\n",
       "      <td>15.36</td>\n",
       "      <td>298.987143</td>\n",
       "      <td>299.228571</td>\n",
       "      <td>295.310000</td>\n",
       "      <td>301.4</td>\n",
       "      <td>297.0</td>\n",
       "      <td>13.90</td>\n",
       "      <td>80.337143</td>\n",
       "      <td>15.36</td>\n",
       "      <td>16.672857</td>\n",
       "      <td>2.428571</td>\n",
       "      <td>27.471429</td>\n",
       "      <td>6.771429</td>\n",
       "      <td>33.3</td>\n",
       "      <td>23.3</td>\n",
       "      <td>4.0</td>\n",
       "      <td>0</td>\n",
       "      <td>1</td>\n",
       "    </tr>\n",
       "    <tr>\n",
       "      <th>4</th>\n",
       "      <td>1990</td>\n",
       "      <td>22</td>\n",
       "      <td>0.196200</td>\n",
       "      <td>0.262200</td>\n",
       "      <td>0.251200</td>\n",
       "      <td>0.247340</td>\n",
       "      <td>7.52</td>\n",
       "      <td>299.518571</td>\n",
       "      <td>299.664286</td>\n",
       "      <td>295.821429</td>\n",
       "      <td>301.9</td>\n",
       "      <td>297.5</td>\n",
       "      <td>12.20</td>\n",
       "      <td>80.460000</td>\n",
       "      <td>7.52</td>\n",
       "      <td>17.210000</td>\n",
       "      <td>3.014286</td>\n",
       "      <td>28.942857</td>\n",
       "      <td>9.371429</td>\n",
       "      <td>35.0</td>\n",
       "      <td>23.9</td>\n",
       "      <td>5.8</td>\n",
       "      <td>0</td>\n",
       "      <td>1</td>\n",
       "    </tr>\n",
       "  </tbody>\n",
       "</table>\n",
       "</div>"
      ],
      "text/plain": [
       "   year  weekofyear   ndvi_ne   ndvi_nw   ndvi_se   ndvi_sw  \\\n",
       "0  1990          18  0.122600  0.103725  0.198483  0.177617   \n",
       "1  1990          19  0.169900  0.142175  0.162357  0.155486   \n",
       "2  1990          20  0.032250  0.172967  0.157200  0.170843   \n",
       "3  1990          21  0.128633  0.245067  0.227557  0.235886   \n",
       "4  1990          22  0.196200  0.262200  0.251200  0.247340   \n",
       "\n",
       "   precipitation_amt_mm  reanalysis_air_temp_k  reanalysis_avg_temp_k  \\\n",
       "0                 12.42             297.572857             297.742857   \n",
       "1                 22.82             298.211429             298.442857   \n",
       "2                 34.54             298.781429             298.878571   \n",
       "3                 15.36             298.987143             299.228571   \n",
       "4                  7.52             299.518571             299.664286   \n",
       "\n",
       "   reanalysis_dew_point_temp_k  reanalysis_max_air_temp_k  \\\n",
       "0                   292.414286                      299.8   \n",
       "1                   293.951429                      300.9   \n",
       "2                   295.434286                      300.5   \n",
       "3                   295.310000                      301.4   \n",
       "4                   295.821429                      301.9   \n",
       "\n",
       "   reanalysis_min_air_temp_k  reanalysis_precip_amt_kg_per_m2  \\\n",
       "0                      295.9                            32.00   \n",
       "1                      296.4                            17.94   \n",
       "2                      297.3                            26.10   \n",
       "3                      297.0                            13.90   \n",
       "4                      297.5                            12.20   \n",
       "\n",
       "   reanalysis_relative_humidity_percent  reanalysis_sat_precip_amt_mm  \\\n",
       "0                             73.365714                         12.42   \n",
       "1                             77.368571                         22.82   \n",
       "2                             82.052857                         34.54   \n",
       "3                             80.337143                         15.36   \n",
       "4                             80.460000                          7.52   \n",
       "\n",
       "   reanalysis_specific_humidity_g_per_kg  reanalysis_tdtr_k  \\\n",
       "0                              14.012857           2.628571   \n",
       "1                              15.372857           2.371429   \n",
       "2                              16.848571           2.300000   \n",
       "3                              16.672857           2.428571   \n",
       "4                              17.210000           3.014286   \n",
       "\n",
       "   station_avg_temp_c  station_diur_temp_rng_c  station_max_temp_c  \\\n",
       "0           25.442857                 6.900000                29.4   \n",
       "1           26.714286                 6.371429                31.7   \n",
       "2           26.714286                 6.485714                32.2   \n",
       "3           27.471429                 6.771429                33.3   \n",
       "4           28.942857                 9.371429                35.0   \n",
       "\n",
       "   station_min_temp_c  station_precip_mm  city_iq  city_sj  \n",
       "0                20.0               16.0        0        1  \n",
       "1                22.2                8.6        0        1  \n",
       "2                22.8               41.4        0        1  \n",
       "3                23.3                4.0        0        1  \n",
       "4                23.9                5.8        0        1  "
      ]
     },
     "execution_count": 21,
     "metadata": {},
     "output_type": "execute_result"
    }
   ],
   "source": [
    "df.head()"
   ]
  },
  {
   "cell_type": "code",
   "execution_count": 22,
   "metadata": {},
   "outputs": [
    {
     "data": {
      "text/plain": [
       "(1872, 24)"
      ]
     },
     "execution_count": 22,
     "metadata": {},
     "output_type": "execute_result"
    }
   ],
   "source": [
    "df.shape"
   ]
  },
  {
   "cell_type": "markdown",
   "metadata": {},
   "source": [
    "Spliting the dataframe into train and test for traing and prediction purposes"
   ]
  },
  {
   "cell_type": "code",
   "execution_count": 23,
   "metadata": {},
   "outputs": [],
   "source": [
    "train = df.iloc[0:train.shape[0]]\n",
    "test = df.iloc[train.shape[0]:]"
   ]
  },
  {
   "cell_type": "markdown",
   "metadata": {},
   "source": [
    "We are going to use random forest, ridge, lasso and linear regression and see which one is making the best prediction. Our metric for comparison of regressors will be mean absolute error as per the competition's rules"
   ]
  },
  {
   "cell_type": "code",
   "execution_count": 24,
   "metadata": {},
   "outputs": [],
   "source": [
    "from sklearn.ensemble import RandomForestRegressor\n",
    "from sklearn.linear_model import Ridge, Lasso, LinearRegression\n",
    "from sklearn.model_selection import cross_val_score\n",
    "from sklearn.metrics import make_scorer, mean_absolute_error\n",
    "scorer = make_scorer(mean_absolute_error, False)"
   ]
  },
  {
   "cell_type": "markdown",
   "metadata": {},
   "source": [
    "# Lasso regression"
   ]
  },
  {
   "cell_type": "markdown",
   "metadata": {},
   "source": [
    "Finding the optimal value of alpha for Lasso regression "
   ]
  },
  {
   "cell_type": "code",
   "execution_count": 25,
   "metadata": {},
   "outputs": [
    {
     "name": "stdout",
     "output_type": "stream",
     "text": [
      "     alpha     score  std_score\n",
      "0   0.0001  4.546612   1.070107\n",
      "0   0.0010  4.545479   1.070635\n",
      "0   0.0500  4.511284   1.084180\n",
      "0   0.1000  4.501705   1.086215\n",
      "0   1.0000  4.476802   1.101882\n",
      "0   5.0000  4.452273   1.086174\n",
      "0  10.0000  4.452751   1.051487\n",
      "0  20.0000  4.498429   0.951130\n",
      "0  30.0000  4.534437   0.875703\n",
      "0  50.0000  4.614846   0.821656\n"
     ]
    }
   ],
   "source": [
    "cols=[\"alpha\", \"score\",\"std_score\"]\n",
    "cv_score_Lasso = pd.DataFrame(columns=cols)\n",
    "\n",
    "alphas = [0.0001,0.001, 0.05, 0.1, 1, 5, 10, 20, 30, 50]\n",
    "\n",
    "for alpha in alphas:\n",
    "    model_Lasso = Lasso(alpha = alpha)\n",
    "    cv_score_Lasso_entry = np.sqrt(-cross_val_score(estimator=model_Lasso, X=train, y=np.ravel(train_target), cv=10, scoring = scorer)).mean()\n",
    "    cv_score_Lasso_std = np.sqrt(-cross_val_score(estimator=model_Lasso, X=train, y=np.ravel(train_target), cv=10, scoring = scorer)).std()\n",
    "    cv_score_Lasso = cv_score_Lasso.append(pd.DataFrame([[alpha, cv_score_Lasso_entry,cv_score_Lasso_std]], columns=cols))\n",
    "print(cv_score_Lasso)"
   ]
  },
  {
   "cell_type": "markdown",
   "metadata": {},
   "source": [
    "# Ridge regression"
   ]
  },
  {
   "cell_type": "markdown",
   "metadata": {},
   "source": [
    "Finding the optimal value of alpha for Ridge regression "
   ]
  },
  {
   "cell_type": "code",
   "execution_count": 26,
   "metadata": {},
   "outputs": [
    {
     "name": "stdout",
     "output_type": "stream",
     "text": [
      "     alpha     score  std_score\n",
      "0   0.0001  4.546128   1.071422\n",
      "0   0.0010  4.546119   1.071423\n",
      "0   0.0500  4.545647   1.071459\n",
      "0   0.1000  4.545184   1.071492\n",
      "0   1.0000  4.539541   1.071789\n",
      "0   5.0000  4.527794   1.073727\n",
      "0  10.0000  4.520678   1.075787\n",
      "0  20.0000  4.513753   1.078576\n",
      "0  30.0000  4.510251   1.080301\n",
      "0  50.0000  4.506095   1.082859\n"
     ]
    }
   ],
   "source": [
    "cols=[\"alpha\", \"score\",\"std_score\"]\n",
    "cv_score_Ridge = pd.DataFrame(columns=cols)\n",
    "\n",
    "alphas= [0.0001,0.001, 0.05, 0.1, 1, 5, 10, 20, 30, 50]\n",
    "\n",
    "for alpha in alphas:\n",
    "    model_Ridge = Ridge(alpha = alpha)\n",
    "    cv_score_Ridge_entry = np.sqrt(-cross_val_score(estimator=model_Ridge, X=train, y=np.ravel(train_target), cv=10, scoring = scorer)).mean()\n",
    "    cv_score_Ridge_std = np.sqrt(-cross_val_score(estimator=model_Ridge, X=train, y=np.ravel(train_target), cv=10, scoring = scorer)).std()\n",
    "    cv_score_Ridge = cv_score_Ridge.append(pd.DataFrame([[alpha, cv_score_Ridge_entry,cv_score_Ridge_std]], columns=cols))\n",
    "print(cv_score_Ridge)"
   ]
  },
  {
   "cell_type": "markdown",
   "metadata": {},
   "source": [
    "# Linear regression"
   ]
  },
  {
   "cell_type": "code",
   "execution_count": 27,
   "metadata": {},
   "outputs": [
    {
     "name": "stdout",
     "output_type": "stream",
     "text": [
      "4.545598923286875 1.071658427419938\n"
     ]
    }
   ],
   "source": [
    "model_linear = LinearRegression()\n",
    "cv_score_Linear = np.sqrt(-cross_val_score(estimator=model_linear, X=train, y=np.ravel(train_target), cv=10, scoring = scorer)).mean()\n",
    "cv_score_Linear_std = np.sqrt(-cross_val_score(estimator=model_linear, X=train, y=np.ravel(train_target), cv=10, scoring = scorer)).std()\n",
    "print(cv_score_Linear,cv_score_Linear_std)"
   ]
  },
  {
   "cell_type": "markdown",
   "metadata": {},
   "source": [
    "# Random forest regressor"
   ]
  },
  {
   "cell_type": "code",
   "execution_count": 28,
   "metadata": {},
   "outputs": [
    {
     "name": "stdout",
     "output_type": "stream",
     "text": [
      "4.246898858409181 1.374141108137346\n"
     ]
    }
   ],
   "source": [
    "model_RFR = RandomForestRegressor(n_estimators=100, random_state=8)\n",
    "cv_score_RFR = np.sqrt(-cross_val_score(estimator=model_RFR, X=train, y=np.ravel(train_target), cv=10, scoring = scorer)).mean()\n",
    "cv_score_RFR_std = np.sqrt(-cross_val_score(estimator=model_RFR, X=train, y=np.ravel(train_target), cv=10, scoring = scorer)).std()\n",
    "print(cv_score_RFR,cv_score_RFR_std)"
   ]
  },
  {
   "cell_type": "markdown",
   "metadata": {},
   "source": [
    "Out of the all the models, Random forest regressor is producing the best prediction"
   ]
  },
  {
   "cell_type": "code",
   "execution_count": 29,
   "metadata": {
    "scrolled": true
   },
   "outputs": [
    {
     "data": {
      "text/html": [
       "<div>\n",
       "<style scoped>\n",
       "    .dataframe tbody tr th:only-of-type {\n",
       "        vertical-align: middle;\n",
       "    }\n",
       "\n",
       "    .dataframe tbody tr th {\n",
       "        vertical-align: top;\n",
       "    }\n",
       "\n",
       "    .dataframe thead th {\n",
       "        text-align: right;\n",
       "    }\n",
       "</style>\n",
       "<table border=\"1\" class=\"dataframe\">\n",
       "  <thead>\n",
       "    <tr style=\"text-align: right;\">\n",
       "      <th></th>\n",
       "      <th>year</th>\n",
       "      <th>weekofyear</th>\n",
       "      <th>ndvi_ne</th>\n",
       "      <th>ndvi_nw</th>\n",
       "      <th>ndvi_se</th>\n",
       "      <th>ndvi_sw</th>\n",
       "      <th>precipitation_amt_mm</th>\n",
       "      <th>reanalysis_air_temp_k</th>\n",
       "      <th>reanalysis_avg_temp_k</th>\n",
       "      <th>reanalysis_dew_point_temp_k</th>\n",
       "      <th>reanalysis_max_air_temp_k</th>\n",
       "      <th>reanalysis_min_air_temp_k</th>\n",
       "      <th>reanalysis_precip_amt_kg_per_m2</th>\n",
       "      <th>reanalysis_relative_humidity_percent</th>\n",
       "      <th>reanalysis_sat_precip_amt_mm</th>\n",
       "      <th>reanalysis_specific_humidity_g_per_kg</th>\n",
       "      <th>reanalysis_tdtr_k</th>\n",
       "      <th>station_avg_temp_c</th>\n",
       "      <th>station_diur_temp_rng_c</th>\n",
       "      <th>station_max_temp_c</th>\n",
       "      <th>station_min_temp_c</th>\n",
       "      <th>station_precip_mm</th>\n",
       "      <th>city_iq</th>\n",
       "      <th>city_sj</th>\n",
       "    </tr>\n",
       "  </thead>\n",
       "  <tbody>\n",
       "    <tr>\n",
       "      <th>count</th>\n",
       "      <td>1872.000000</td>\n",
       "      <td>1872.000000</td>\n",
       "      <td>1872.000000</td>\n",
       "      <td>1872.000000</td>\n",
       "      <td>1872.000000</td>\n",
       "      <td>1872.000000</td>\n",
       "      <td>1872.000000</td>\n",
       "      <td>1872.000000</td>\n",
       "      <td>1872.000000</td>\n",
       "      <td>1872.000000</td>\n",
       "      <td>1872.000000</td>\n",
       "      <td>1872.000000</td>\n",
       "      <td>1872.000000</td>\n",
       "      <td>1872.000000</td>\n",
       "      <td>1872.000000</td>\n",
       "      <td>1872.000000</td>\n",
       "      <td>1872.000000</td>\n",
       "      <td>1872.000000</td>\n",
       "      <td>1872.000000</td>\n",
       "      <td>1872.000000</td>\n",
       "      <td>1872.000000</td>\n",
       "      <td>1872.000000</td>\n",
       "      <td>1872.000000</td>\n",
       "      <td>1872.000000</td>\n",
       "    </tr>\n",
       "    <tr>\n",
       "      <th>mean</th>\n",
       "      <td>2003.194979</td>\n",
       "      <td>26.489316</td>\n",
       "      <td>0.137161</td>\n",
       "      <td>0.129225</td>\n",
       "      <td>0.204569</td>\n",
       "      <td>0.202003</td>\n",
       "      <td>44.049428</td>\n",
       "      <td>298.727061</td>\n",
       "      <td>299.254251</td>\n",
       "      <td>295.287274</td>\n",
       "      <td>303.465224</td>\n",
       "      <td>295.727618</td>\n",
       "      <td>40.514605</td>\n",
       "      <td>82.224786</td>\n",
       "      <td>44.049428</td>\n",
       "      <td>16.788885</td>\n",
       "      <td>4.939560</td>\n",
       "      <td>27.232723</td>\n",
       "      <td>7.980486</td>\n",
       "      <td>32.474840</td>\n",
       "      <td>22.161271</td>\n",
       "      <td>37.994177</td>\n",
       "      <td>0.361111</td>\n",
       "      <td>0.638889</td>\n",
       "    </tr>\n",
       "    <tr>\n",
       "      <th>std</th>\n",
       "      <td>6.292268</td>\n",
       "      <td>15.006319</td>\n",
       "      <td>0.136878</td>\n",
       "      <td>0.122986</td>\n",
       "      <td>0.074606</td>\n",
       "      <td>0.085253</td>\n",
       "      <td>41.902200</td>\n",
       "      <td>1.382982</td>\n",
       "      <td>1.268428</td>\n",
       "      <td>1.523444</td>\n",
       "      <td>3.196198</td>\n",
       "      <td>2.601357</td>\n",
       "      <td>44.574757</td>\n",
       "      <td>7.182317</td>\n",
       "      <td>41.902200</td>\n",
       "      <td>1.542620</td>\n",
       "      <td>3.538402</td>\n",
       "      <td>1.262765</td>\n",
       "      <td>2.177313</td>\n",
       "      <td>1.938797</td>\n",
       "      <td>1.603384</td>\n",
       "      <td>44.668800</td>\n",
       "      <td>0.480451</td>\n",
       "      <td>0.480451</td>\n",
       "    </tr>\n",
       "    <tr>\n",
       "      <th>min</th>\n",
       "      <td>1990.000000</td>\n",
       "      <td>1.000000</td>\n",
       "      <td>-0.463400</td>\n",
       "      <td>-0.456100</td>\n",
       "      <td>-0.015533</td>\n",
       "      <td>-0.063457</td>\n",
       "      <td>0.000000</td>\n",
       "      <td>294.554286</td>\n",
       "      <td>294.892857</td>\n",
       "      <td>289.642857</td>\n",
       "      <td>297.800000</td>\n",
       "      <td>286.200000</td>\n",
       "      <td>0.000000</td>\n",
       "      <td>57.787143</td>\n",
       "      <td>0.000000</td>\n",
       "      <td>11.715714</td>\n",
       "      <td>1.357143</td>\n",
       "      <td>21.400000</td>\n",
       "      <td>4.042857</td>\n",
       "      <td>26.700000</td>\n",
       "      <td>14.200000</td>\n",
       "      <td>0.000000</td>\n",
       "      <td>0.000000</td>\n",
       "      <td>0.000000</td>\n",
       "    </tr>\n",
       "    <tr>\n",
       "      <th>25%</th>\n",
       "      <td>1999.000000</td>\n",
       "      <td>13.750000</td>\n",
       "      <td>0.049025</td>\n",
       "      <td>0.044000</td>\n",
       "      <td>0.153875</td>\n",
       "      <td>0.141671</td>\n",
       "      <td>9.530000</td>\n",
       "      <td>297.683929</td>\n",
       "      <td>298.283929</td>\n",
       "      <td>294.182500</td>\n",
       "      <td>301.000000</td>\n",
       "      <td>293.800000</td>\n",
       "      <td>12.500000</td>\n",
       "      <td>77.245000</td>\n",
       "      <td>9.530000</td>\n",
       "      <td>15.595714</td>\n",
       "      <td>2.357143</td>\n",
       "      <td>26.410714</td>\n",
       "      <td>6.371429</td>\n",
       "      <td>31.100000</td>\n",
       "      <td>21.100000</td>\n",
       "      <td>8.900000</td>\n",
       "      <td>0.000000</td>\n",
       "      <td>0.000000</td>\n",
       "    </tr>\n",
       "    <tr>\n",
       "      <th>50%</th>\n",
       "      <td>2004.000000</td>\n",
       "      <td>26.000000</td>\n",
       "      <td>0.127317</td>\n",
       "      <td>0.115200</td>\n",
       "      <td>0.197029</td>\n",
       "      <td>0.188229</td>\n",
       "      <td>36.640000</td>\n",
       "      <td>298.617143</td>\n",
       "      <td>299.300000</td>\n",
       "      <td>295.667143</td>\n",
       "      <td>302.600000</td>\n",
       "      <td>296.200000</td>\n",
       "      <td>27.080000</td>\n",
       "      <td>80.307143</td>\n",
       "      <td>36.640000</td>\n",
       "      <td>17.137143</td>\n",
       "      <td>2.871429</td>\n",
       "      <td>27.433333</td>\n",
       "      <td>7.200000</td>\n",
       "      <td>32.800000</td>\n",
       "      <td>22.200000</td>\n",
       "      <td>23.800000</td>\n",
       "      <td>0.000000</td>\n",
       "      <td>1.000000</td>\n",
       "    </tr>\n",
       "    <tr>\n",
       "      <th>75%</th>\n",
       "      <td>2008.000000</td>\n",
       "      <td>39.000000</td>\n",
       "      <td>0.234800</td>\n",
       "      <td>0.217529</td>\n",
       "      <td>0.250100</td>\n",
       "      <td>0.247235</td>\n",
       "      <td>66.562500</td>\n",
       "      <td>299.886071</td>\n",
       "      <td>300.264286</td>\n",
       "      <td>296.500000</td>\n",
       "      <td>305.500000</td>\n",
       "      <td>298.000000</td>\n",
       "      <td>52.700000</td>\n",
       "      <td>86.755714</td>\n",
       "      <td>66.562500</td>\n",
       "      <td>18.018929</td>\n",
       "      <td>7.732143</td>\n",
       "      <td>28.157143</td>\n",
       "      <td>9.550000</td>\n",
       "      <td>33.900000</td>\n",
       "      <td>23.300000</td>\n",
       "      <td>51.000000</td>\n",
       "      <td>1.000000</td>\n",
       "      <td>1.000000</td>\n",
       "    </tr>\n",
       "    <tr>\n",
       "      <th>max</th>\n",
       "      <td>2013.000000</td>\n",
       "      <td>53.000000</td>\n",
       "      <td>0.508357</td>\n",
       "      <td>0.649000</td>\n",
       "      <td>0.538314</td>\n",
       "      <td>0.546017</td>\n",
       "      <td>390.600000</td>\n",
       "      <td>302.200000</td>\n",
       "      <td>303.328571</td>\n",
       "      <td>298.450000</td>\n",
       "      <td>314.100000</td>\n",
       "      <td>299.900000</td>\n",
       "      <td>570.500000</td>\n",
       "      <td>98.610000</td>\n",
       "      <td>390.600000</td>\n",
       "      <td>20.461429</td>\n",
       "      <td>16.028571</td>\n",
       "      <td>30.800000</td>\n",
       "      <td>15.800000</td>\n",
       "      <td>42.200000</td>\n",
       "      <td>26.700000</td>\n",
       "      <td>543.300000</td>\n",
       "      <td>1.000000</td>\n",
       "      <td>1.000000</td>\n",
       "    </tr>\n",
       "  </tbody>\n",
       "</table>\n",
       "</div>"
      ],
      "text/plain": [
       "              year   weekofyear      ndvi_ne      ndvi_nw      ndvi_se  \\\n",
       "count  1872.000000  1872.000000  1872.000000  1872.000000  1872.000000   \n",
       "mean   2003.194979    26.489316     0.137161     0.129225     0.204569   \n",
       "std       6.292268    15.006319     0.136878     0.122986     0.074606   \n",
       "min    1990.000000     1.000000    -0.463400    -0.456100    -0.015533   \n",
       "25%    1999.000000    13.750000     0.049025     0.044000     0.153875   \n",
       "50%    2004.000000    26.000000     0.127317     0.115200     0.197029   \n",
       "75%    2008.000000    39.000000     0.234800     0.217529     0.250100   \n",
       "max    2013.000000    53.000000     0.508357     0.649000     0.538314   \n",
       "\n",
       "           ndvi_sw  precipitation_amt_mm  reanalysis_air_temp_k  \\\n",
       "count  1872.000000           1872.000000            1872.000000   \n",
       "mean      0.202003             44.049428             298.727061   \n",
       "std       0.085253             41.902200               1.382982   \n",
       "min      -0.063457              0.000000             294.554286   \n",
       "25%       0.141671              9.530000             297.683929   \n",
       "50%       0.188229             36.640000             298.617143   \n",
       "75%       0.247235             66.562500             299.886071   \n",
       "max       0.546017            390.600000             302.200000   \n",
       "\n",
       "       reanalysis_avg_temp_k  reanalysis_dew_point_temp_k  \\\n",
       "count            1872.000000                  1872.000000   \n",
       "mean              299.254251                   295.287274   \n",
       "std                 1.268428                     1.523444   \n",
       "min               294.892857                   289.642857   \n",
       "25%               298.283929                   294.182500   \n",
       "50%               299.300000                   295.667143   \n",
       "75%               300.264286                   296.500000   \n",
       "max               303.328571                   298.450000   \n",
       "\n",
       "       reanalysis_max_air_temp_k  reanalysis_min_air_temp_k  \\\n",
       "count                1872.000000                1872.000000   \n",
       "mean                  303.465224                 295.727618   \n",
       "std                     3.196198                   2.601357   \n",
       "min                   297.800000                 286.200000   \n",
       "25%                   301.000000                 293.800000   \n",
       "50%                   302.600000                 296.200000   \n",
       "75%                   305.500000                 298.000000   \n",
       "max                   314.100000                 299.900000   \n",
       "\n",
       "       reanalysis_precip_amt_kg_per_m2  reanalysis_relative_humidity_percent  \\\n",
       "count                      1872.000000                           1872.000000   \n",
       "mean                         40.514605                             82.224786   \n",
       "std                          44.574757                              7.182317   \n",
       "min                           0.000000                             57.787143   \n",
       "25%                          12.500000                             77.245000   \n",
       "50%                          27.080000                             80.307143   \n",
       "75%                          52.700000                             86.755714   \n",
       "max                         570.500000                             98.610000   \n",
       "\n",
       "       reanalysis_sat_precip_amt_mm  reanalysis_specific_humidity_g_per_kg  \\\n",
       "count                   1872.000000                            1872.000000   \n",
       "mean                      44.049428                              16.788885   \n",
       "std                       41.902200                               1.542620   \n",
       "min                        0.000000                              11.715714   \n",
       "25%                        9.530000                              15.595714   \n",
       "50%                       36.640000                              17.137143   \n",
       "75%                       66.562500                              18.018929   \n",
       "max                      390.600000                              20.461429   \n",
       "\n",
       "       reanalysis_tdtr_k  station_avg_temp_c  station_diur_temp_rng_c  \\\n",
       "count        1872.000000         1872.000000              1872.000000   \n",
       "mean            4.939560           27.232723                 7.980486   \n",
       "std             3.538402            1.262765                 2.177313   \n",
       "min             1.357143           21.400000                 4.042857   \n",
       "25%             2.357143           26.410714                 6.371429   \n",
       "50%             2.871429           27.433333                 7.200000   \n",
       "75%             7.732143           28.157143                 9.550000   \n",
       "max            16.028571           30.800000                15.800000   \n",
       "\n",
       "       station_max_temp_c  station_min_temp_c  station_precip_mm      city_iq  \\\n",
       "count         1872.000000         1872.000000        1872.000000  1872.000000   \n",
       "mean            32.474840           22.161271          37.994177     0.361111   \n",
       "std              1.938797            1.603384          44.668800     0.480451   \n",
       "min             26.700000           14.200000           0.000000     0.000000   \n",
       "25%             31.100000           21.100000           8.900000     0.000000   \n",
       "50%             32.800000           22.200000          23.800000     0.000000   \n",
       "75%             33.900000           23.300000          51.000000     1.000000   \n",
       "max             42.200000           26.700000         543.300000     1.000000   \n",
       "\n",
       "           city_sj  \n",
       "count  1872.000000  \n",
       "mean      0.638889  \n",
       "std       0.480451  \n",
       "min       0.000000  \n",
       "25%       0.000000  \n",
       "50%       1.000000  \n",
       "75%       1.000000  \n",
       "max       1.000000  "
      ]
     },
     "execution_count": 29,
     "metadata": {},
     "output_type": "execute_result"
    }
   ],
   "source": [
    "df.describe()"
   ]
  },
  {
   "cell_type": "markdown",
   "metadata": {},
   "source": [
    "We are going to find out which variables are correlated and we are going to remove some correlated variables. The threshold for correlation has been set at 0.8"
   ]
  },
  {
   "cell_type": "code",
   "execution_count": 30,
   "metadata": {},
   "outputs": [],
   "source": [
    "# Correlation tells relation between two attributes.\n",
    "# Correlation requires continous data. Hence, ignore categorical data\n",
    "# Calculates pearson co-efficient for all combinations\n",
    "df_cont_corr = df_cont.corr()\n",
    "# Set the threshold to select only highly correlated attributes\n",
    "threshold = 0.8\n",
    "# List of pairs along with correlation above threshold\n",
    "corr_list = []\n",
    "j_columns = []\n",
    "#Search for the highly correlated pairs\n",
    "for i in range(0,df_cont.shape[1]):\n",
    "    if i not in np.ravel(j_columns):\n",
    "        for j in range(i+1,df_cont.shape[1]):\n",
    "            if (df_cont_corr.iloc[i,j] >= threshold and df_cont_corr.iloc[i,j] < 1) or (df_cont_corr.iloc[i,j] < 0 and df_cont_corr.iloc[i,j] <= -threshold):\n",
    "                corr_list.append([df_cont_corr.iloc[i,j],i,j]) #store correlation and columns index\n",
    "                j_columns.append([j])"
   ]
  },
  {
   "cell_type": "code",
   "execution_count": 31,
   "metadata": {},
   "outputs": [
    {
     "data": {
      "text/plain": [
       "array([ 3,  5,  8, 15, 16, 18, 16])"
      ]
     },
     "execution_count": 31,
     "metadata": {},
     "output_type": "execute_result"
    }
   ],
   "source": [
    "j_columns = np.ravel(j_columns)\n",
    "j_columns"
   ]
  },
  {
   "cell_type": "markdown",
   "metadata": {},
   "source": [
    "j_columns contain the variables that we are planning to drop"
   ]
  },
  {
   "cell_type": "code",
   "execution_count": 32,
   "metadata": {
    "scrolled": true
   },
   "outputs": [
    {
     "name": "stdout",
     "output_type": "stream",
     "text": [
      "2 and 3 = 0.81\n",
      "4 and 5 = 0.82\n",
      "7 and 8 = 0.90\n",
      "9 and 15 = 1.00\n",
      "10 and 16 = 0.92\n",
      "10 and 18 = 0.82\n",
      "11 and 16 = -0.82\n"
     ]
    }
   ],
   "source": [
    "for v,i,j in corr_list:\n",
    "    print (\"%s and %s = %.2f\" % (i,j,v))"
   ]
  },
  {
   "cell_type": "code",
   "execution_count": 33,
   "metadata": {
    "scrolled": true
   },
   "outputs": [],
   "source": [
    "features_to_drop = []\n",
    "for i in j_columns:\n",
    "    features_to_drop.append(df_cont.columns[i])"
   ]
  },
  {
   "cell_type": "code",
   "execution_count": 34,
   "metadata": {},
   "outputs": [
    {
     "data": {
      "text/plain": [
       "['ndvi_nw',\n",
       " 'ndvi_sw',\n",
       " 'reanalysis_avg_temp_k',\n",
       " 'reanalysis_specific_humidity_g_per_kg',\n",
       " 'reanalysis_tdtr_k',\n",
       " 'station_diur_temp_rng_c',\n",
       " 'reanalysis_tdtr_k']"
      ]
     },
     "execution_count": 34,
     "metadata": {},
     "output_type": "execute_result"
    }
   ],
   "source": [
    "features_to_drop"
   ]
  },
  {
   "cell_type": "markdown",
   "metadata": {},
   "source": [
    "We are going to drop the features which are correlated and they are in the array features_to_drop"
   ]
  },
  {
   "cell_type": "code",
   "execution_count": 35,
   "metadata": {},
   "outputs": [],
   "source": [
    "df_cont = df_cont.drop(features_to_drop, axis = 1)"
   ]
  },
  {
   "cell_type": "code",
   "execution_count": 36,
   "metadata": {},
   "outputs": [
    {
     "data": {
      "text/plain": [
       "(1872, 18)"
      ]
     },
     "execution_count": 36,
     "metadata": {},
     "output_type": "execute_result"
    }
   ],
   "source": [
    "df = df_cont.join(df_cat)\n",
    "df.shape"
   ]
  },
  {
   "cell_type": "code",
   "execution_count": 37,
   "metadata": {},
   "outputs": [],
   "source": [
    "train = df.iloc[0:train.shape[0]]\n",
    "test = df.iloc[train.shape[0]:]"
   ]
  },
  {
   "cell_type": "code",
   "execution_count": 38,
   "metadata": {},
   "outputs": [
    {
     "name": "stdout",
     "output_type": "stream",
     "text": [
      "     alpha     score  std_score\n",
      "0   0.0001  4.521180   1.097641\n",
      "0   0.0010  4.520610   1.097785\n",
      "0   0.0500  4.507330   1.097727\n",
      "0   0.1000  4.504879   1.096073\n",
      "0   1.0000  4.490790   1.090463\n",
      "0   5.0000  4.450086   1.078228\n",
      "0  10.0000  4.445367   1.045274\n",
      "0  20.0000  4.506100   0.936902\n",
      "0  30.0000  4.514400   0.891055\n",
      "0  50.0000  4.614846   0.821656\n"
     ]
    }
   ],
   "source": [
    "cols=[\"alpha\", \"score\",\"std_score\"]\n",
    "cv_score_Lasso = pd.DataFrame(columns=cols)\n",
    "\n",
    "alphas = [0.0001,0.001, 0.05, 0.1, 1, 5, 10, 20, 30, 50]\n",
    "\n",
    "for alpha in alphas:\n",
    "    model_Lasso = Lasso(alpha = alpha)\n",
    "    cv_score_Lasso_entry = np.sqrt(-cross_val_score(estimator=model_Lasso, X=train, y=np.ravel(train_target), cv=10, scoring = scorer)).mean()\n",
    "    cv_score_Lasso_std = np.sqrt(-cross_val_score(estimator=model_Lasso, X=train, y=np.ravel(train_target), cv=10, scoring = scorer)).std()\n",
    "    cv_score_Lasso = cv_score_Lasso.append(pd.DataFrame([[alpha, cv_score_Lasso_entry,cv_score_Lasso_std]], columns=cols))\n",
    "print(cv_score_Lasso)"
   ]
  },
  {
   "cell_type": "code",
   "execution_count": 39,
   "metadata": {},
   "outputs": [
    {
     "name": "stdout",
     "output_type": "stream",
     "text": [
      "     alpha     score  std_score\n",
      "0   0.0001  4.521495   1.097394\n",
      "0   0.0010  4.521492   1.097395\n",
      "0   0.0500  4.521355   1.097410\n",
      "0   0.1000  4.521217   1.097426\n",
      "0   1.0000  4.519114   1.097634\n",
      "0   5.0000  4.513844   1.097786\n",
      "0  10.0000  4.510546   1.097623\n",
      "0  20.0000  4.506882   1.097463\n",
      "0  30.0000  4.504576   1.097550\n",
      "0  50.0000  4.501558   1.097945\n"
     ]
    }
   ],
   "source": [
    "cols=[\"alpha\", \"score\",\"std_score\"]\n",
    "cv_score_Ridge = pd.DataFrame(columns=cols)\n",
    "\n",
    "alphas= [0.0001,0.001, 0.05, 0.1, 1, 5, 10, 20, 30, 50]\n",
    "\n",
    "for alpha in alphas:\n",
    "    model_Ridge = Ridge(alpha = alpha)\n",
    "    cv_score_Ridge_entry = np.sqrt(-cross_val_score(estimator=model_Ridge, X=train, y=np.ravel(train_target), cv=10, scoring = scorer)).mean()\n",
    "    cv_score_Ridge_std = np.sqrt(-cross_val_score(estimator=model_Ridge, X=train, y=np.ravel(train_target), cv=10, scoring = scorer)).std()\n",
    "    cv_score_Ridge = cv_score_Ridge.append(pd.DataFrame([[alpha, cv_score_Ridge_entry,cv_score_Ridge_std]], columns=cols))\n",
    "print(cv_score_Ridge)"
   ]
  },
  {
   "cell_type": "code",
   "execution_count": 40,
   "metadata": {},
   "outputs": [
    {
     "name": "stdout",
     "output_type": "stream",
     "text": [
      "4.521495084676612 1.097394223230425\n"
     ]
    }
   ],
   "source": [
    "model_linear = LinearRegression()\n",
    "cv_score_Linear = np.sqrt(-cross_val_score(estimator=model_linear, X=train, y=np.ravel(train_target), cv=10, scoring = scorer)).mean()\n",
    "cv_score_Linear_std = np.sqrt(-cross_val_score(estimator=model_linear, X=train, y=np.ravel(train_target), cv=10, scoring = scorer)).std()\n",
    "print(cv_score_Linear,cv_score_Linear_std)"
   ]
  },
  {
   "cell_type": "code",
   "execution_count": 41,
   "metadata": {},
   "outputs": [
    {
     "name": "stdout",
     "output_type": "stream",
     "text": [
      "4.246689743283072 1.3488179392248782\n"
     ]
    }
   ],
   "source": [
    "model_RFR = RandomForestRegressor(n_estimators = 100, random_state=8)\n",
    "cv_score_RFR = np.sqrt(-cross_val_score(estimator=model_RFR, X=train, y=np.ravel(train_target), cv=10, scoring = scorer)).mean()\n",
    "cv_score_RFR_std = np.sqrt(-cross_val_score(estimator=model_RFR, X=train, y=np.ravel(train_target), cv=10, scoring = scorer)).std()\n",
    "print(cv_score_RFR,cv_score_RFR_std)"
   ]
  },
  {
   "cell_type": "markdown",
   "metadata": {},
   "source": [
    "The removal of correlated variables did not have much of an impact on the mean absolute error of random forest"
   ]
  },
  {
   "cell_type": "markdown",
   "metadata": {},
   "source": [
    "Let us see if normalizing the variables can decrease the mean absolute error further"
   ]
  },
  {
   "cell_type": "code",
   "execution_count": 42,
   "metadata": {},
   "outputs": [],
   "source": [
    "from sklearn.preprocessing import StandardScaler"
   ]
  },
  {
   "cell_type": "code",
   "execution_count": 43,
   "metadata": {},
   "outputs": [
    {
     "ename": "AttributeError",
     "evalue": "'Series' object has no attribute 'reshape'",
     "output_type": "error",
     "traceback": [
      "\u001b[0;31m---------------------------------------------------------------------------\u001b[0m",
      "\u001b[0;31mAttributeError\u001b[0m                            Traceback (most recent call last)",
      "\u001b[0;32m<ipython-input-43-e505d16d4a57>\u001b[0m in \u001b[0;36m<module>\u001b[0;34m\u001b[0m\n\u001b[1;32m      1\u001b[0m \u001b[0mdf_cont_norm\u001b[0m \u001b[0;34m=\u001b[0m \u001b[0mdf_cont\u001b[0m\u001b[0;34m\u001b[0m\u001b[0;34m\u001b[0m\u001b[0m\n\u001b[1;32m      2\u001b[0m \u001b[0;32mfor\u001b[0m \u001b[0mcol\u001b[0m \u001b[0;32min\u001b[0m \u001b[0mdf_cont_norm\u001b[0m\u001b[0;34m.\u001b[0m\u001b[0mcolumns\u001b[0m\u001b[0;34m.\u001b[0m\u001b[0mvalues\u001b[0m\u001b[0;34m:\u001b[0m\u001b[0;34m\u001b[0m\u001b[0;34m\u001b[0m\u001b[0m\n\u001b[0;32m----> 3\u001b[0;31m     \u001b[0mdf_cont_norm\u001b[0m\u001b[0;34m[\u001b[0m\u001b[0mcol\u001b[0m\u001b[0;34m]\u001b[0m \u001b[0;34m=\u001b[0m \u001b[0mStandardScaler\u001b[0m\u001b[0;34m(\u001b[0m\u001b[0;34m)\u001b[0m\u001b[0;34m.\u001b[0m\u001b[0mfit_transform\u001b[0m\u001b[0;34m(\u001b[0m\u001b[0mdf_cont_norm\u001b[0m\u001b[0;34m[\u001b[0m\u001b[0mcol\u001b[0m\u001b[0;34m]\u001b[0m\u001b[0;34m.\u001b[0m\u001b[0mreshape\u001b[0m\u001b[0;34m(\u001b[0m\u001b[0;36m1\u001b[0m\u001b[0;34m,\u001b[0m\u001b[0;34m-\u001b[0m\u001b[0;36m1\u001b[0m\u001b[0;34m)\u001b[0m\u001b[0;34m)\u001b[0m\u001b[0;34m[\u001b[0m\u001b[0;36m0\u001b[0m\u001b[0;34m]\u001b[0m\u001b[0;34m\u001b[0m\u001b[0;34m\u001b[0m\u001b[0m\n\u001b[0m",
      "\u001b[0;32m/usr/local/lib/python3.7/site-packages/pandas/core/generic.py\u001b[0m in \u001b[0;36m__getattr__\u001b[0;34m(self, name)\u001b[0m\n\u001b[1;32m   4374\u001b[0m             \u001b[0;32mif\u001b[0m \u001b[0mself\u001b[0m\u001b[0;34m.\u001b[0m\u001b[0m_info_axis\u001b[0m\u001b[0;34m.\u001b[0m\u001b[0m_can_hold_identifiers_and_holds_name\u001b[0m\u001b[0;34m(\u001b[0m\u001b[0mname\u001b[0m\u001b[0;34m)\u001b[0m\u001b[0;34m:\u001b[0m\u001b[0;34m\u001b[0m\u001b[0;34m\u001b[0m\u001b[0m\n\u001b[1;32m   4375\u001b[0m                 \u001b[0;32mreturn\u001b[0m \u001b[0mself\u001b[0m\u001b[0;34m[\u001b[0m\u001b[0mname\u001b[0m\u001b[0;34m]\u001b[0m\u001b[0;34m\u001b[0m\u001b[0;34m\u001b[0m\u001b[0m\n\u001b[0;32m-> 4376\u001b[0;31m             \u001b[0;32mreturn\u001b[0m \u001b[0mobject\u001b[0m\u001b[0;34m.\u001b[0m\u001b[0m__getattribute__\u001b[0m\u001b[0;34m(\u001b[0m\u001b[0mself\u001b[0m\u001b[0;34m,\u001b[0m \u001b[0mname\u001b[0m\u001b[0;34m)\u001b[0m\u001b[0;34m\u001b[0m\u001b[0;34m\u001b[0m\u001b[0m\n\u001b[0m\u001b[1;32m   4377\u001b[0m \u001b[0;34m\u001b[0m\u001b[0m\n\u001b[1;32m   4378\u001b[0m     \u001b[0;32mdef\u001b[0m \u001b[0m__setattr__\u001b[0m\u001b[0;34m(\u001b[0m\u001b[0mself\u001b[0m\u001b[0;34m,\u001b[0m \u001b[0mname\u001b[0m\u001b[0;34m,\u001b[0m \u001b[0mvalue\u001b[0m\u001b[0;34m)\u001b[0m\u001b[0;34m:\u001b[0m\u001b[0;34m\u001b[0m\u001b[0;34m\u001b[0m\u001b[0m\n",
      "\u001b[0;31mAttributeError\u001b[0m: 'Series' object has no attribute 'reshape'"
     ]
    }
   ],
   "source": [
    "df_cont_norm = df_cont\n",
    "for col in df_cont_norm.columns.values:\n",
    "    df_cont_norm[col] = StandardScaler().fit_transform(df_cont_norm[col].reshape(1,-1))[0]"
   ]
  },
  {
   "cell_type": "code",
   "execution_count": 44,
   "metadata": {},
   "outputs": [],
   "source": [
    "df_norm = df_cont_norm.join(df_cat)"
   ]
  },
  {
   "cell_type": "code",
   "execution_count": 45,
   "metadata": {},
   "outputs": [],
   "source": [
    "train = df_norm.iloc[0:train.shape[0]]\n",
    "test = df_norm.iloc[train.shape[0]:]"
   ]
  },
  {
   "cell_type": "code",
   "execution_count": 46,
   "metadata": {},
   "outputs": [
    {
     "name": "stdout",
     "output_type": "stream",
     "text": [
      "     alpha     score  std_score\n",
      "0   0.0001  4.521180   1.097641\n",
      "0   0.0010  4.520610   1.097785\n",
      "0   0.0500  4.507330   1.097727\n",
      "0   0.1000  4.504879   1.096073\n",
      "0   1.0000  4.490790   1.090463\n",
      "0   5.0000  4.450086   1.078228\n",
      "0  10.0000  4.445367   1.045274\n",
      "0  20.0000  4.506100   0.936902\n",
      "0  30.0000  4.514400   0.891055\n",
      "0  50.0000  4.614846   0.821656\n"
     ]
    }
   ],
   "source": [
    "cols=[\"alpha\", \"score\",\"std_score\"]\n",
    "cv_score_Lasso = pd.DataFrame(columns=cols)\n",
    "\n",
    "alphas = [0.0001,0.001, 0.05, 0.1, 1, 5, 10, 20, 30, 50]\n",
    "\n",
    "for alpha in alphas:\n",
    "    model_Lasso = Lasso(alpha = alpha)\n",
    "    cv_score_Lasso_entry = np.sqrt(-cross_val_score(estimator=model_Lasso, X=train, y=np.ravel(train_target), cv=10, scoring = scorer)).mean()\n",
    "    cv_score_Lasso_std = np.sqrt(-cross_val_score(estimator=model_Lasso, X=train, y=np.ravel(train_target), cv=10, scoring = scorer)).std()\n",
    "    cv_score_Lasso = cv_score_Lasso.append(pd.DataFrame([[alpha, cv_score_Lasso_entry,cv_score_Lasso_std]], columns=cols))\n",
    "print(cv_score_Lasso)"
   ]
  },
  {
   "cell_type": "code",
   "execution_count": 47,
   "metadata": {},
   "outputs": [
    {
     "name": "stdout",
     "output_type": "stream",
     "text": [
      "     alpha     score  std_score\n",
      "0   0.0001  4.521495   1.097394\n",
      "0   0.0010  4.521492   1.097395\n",
      "0   0.0500  4.521355   1.097410\n",
      "0   0.1000  4.521217   1.097426\n",
      "0   1.0000  4.519114   1.097634\n",
      "0   5.0000  4.513844   1.097786\n",
      "0  10.0000  4.510546   1.097623\n",
      "0  20.0000  4.506882   1.097463\n",
      "0  30.0000  4.504576   1.097550\n",
      "0  50.0000  4.501558   1.097945\n"
     ]
    }
   ],
   "source": [
    "cols=[\"alpha\", \"score\",\"std_score\"]\n",
    "cv_score_Ridge = pd.DataFrame(columns=cols)\n",
    "\n",
    "alphas= [0.0001,0.001, 0.05, 0.1, 1, 5, 10, 20, 30, 50]\n",
    "\n",
    "for alpha in alphas:\n",
    "    model_Ridge = Ridge(alpha = alpha)\n",
    "    cv_score_Ridge_entry = np.sqrt(-cross_val_score(estimator=model_Ridge, X=train, y=np.ravel(train_target), cv=10, scoring = scorer)).mean()\n",
    "    cv_score_Ridge_std = np.sqrt(-cross_val_score(estimator=model_Ridge, X=train, y=np.ravel(train_target), cv=10, scoring = scorer)).std()\n",
    "    cv_score_Ridge = cv_score_Ridge.append(pd.DataFrame([[alpha, cv_score_Ridge_entry,cv_score_Ridge_std]], columns=cols))\n",
    "print(cv_score_Ridge)"
   ]
  },
  {
   "cell_type": "code",
   "execution_count": 48,
   "metadata": {},
   "outputs": [
    {
     "name": "stdout",
     "output_type": "stream",
     "text": [
      "4.521495084676612 1.097394223230425\n"
     ]
    }
   ],
   "source": [
    "model_linear = LinearRegression()\n",
    "cv_score_Linear = np.sqrt(-cross_val_score(estimator=model_linear, X=train, y=np.ravel(train_target), cv=10, scoring = scorer)).mean()\n",
    "cv_score_Linear_std = np.sqrt(-cross_val_score(estimator=model_linear, X=train, y=np.ravel(train_target), cv=10, scoring = scorer)).std()\n",
    "print(cv_score_Linear,cv_score_Linear_std)"
   ]
  },
  {
   "cell_type": "code",
   "execution_count": 49,
   "metadata": {},
   "outputs": [
    {
     "name": "stdout",
     "output_type": "stream",
     "text": [
      "4.219996344025961 1.334684994833781\n"
     ]
    }
   ],
   "source": [
    "model_RFR = RandomForestRegressor(n_estimators = 500,random_state=8)\n",
    "cv_score_RFR = np.sqrt(-cross_val_score(estimator=model_RFR, X=train, y=np.ravel(train_target), cv=10, scoring = scorer)).mean()\n",
    "cv_score_RFR_std = np.sqrt(-cross_val_score(estimator=model_RFR, X=train, y=np.ravel(train_target), cv=10, scoring = scorer)).std()\n",
    "print(cv_score_RFR,cv_score_RFR_std)"
   ]
  },
  {
   "cell_type": "markdown",
   "metadata": {},
   "source": [
    "We are going to select Random Forest as our model. We are going to use on non normalized data."
   ]
  },
  {
   "cell_type": "code",
   "execution_count": 50,
   "metadata": {},
   "outputs": [],
   "source": [
    "train = df.iloc[0:train.shape[0]]\n",
    "test = df.iloc[train.shape[0]:]"
   ]
  },
  {
   "cell_type": "code",
   "execution_count": 51,
   "metadata": {
    "scrolled": true
   },
   "outputs": [
    {
     "data": {
      "text/plain": [
       "RandomForestRegressor(bootstrap=True, criterion='mse', max_depth=None,\n",
       "           max_features='auto', max_leaf_nodes=None,\n",
       "           min_impurity_decrease=0.0, min_impurity_split=None,\n",
       "           min_samples_leaf=1, min_samples_split=2,\n",
       "           min_weight_fraction_leaf=0.0, n_estimators=500, n_jobs=None,\n",
       "           oob_score=False, random_state=8, verbose=0, warm_start=False)"
      ]
     },
     "execution_count": 51,
     "metadata": {},
     "output_type": "execute_result"
    }
   ],
   "source": [
    "model_RFR.fit(train, np.ravel(train_target))"
   ]
  },
  {
   "cell_type": "code",
   "execution_count": 52,
   "metadata": {},
   "outputs": [],
   "source": [
    "predictions = model_RFR.predict(test)"
   ]
  },
  {
   "cell_type": "code",
   "execution_count": 53,
   "metadata": {},
   "outputs": [],
   "source": [
    "predictions = predictions.astype(int)"
   ]
  },
  {
   "cell_type": "code",
   "execution_count": 54,
   "metadata": {},
   "outputs": [],
   "source": [
    "submission = pd.DataFrame(predictions, columns=[\"total_cases\"])\n",
    "submission.insert(0, 'city', test_city)\n",
    "submission.insert(1, 'year', test_year)\n",
    "submission.insert(2, 'weekofyear', test_weekofyear)\n",
    "submission.reset_index()\n",
    "submission.to_csv('Submission.csv', index = False)"
   ]
  },
  {
   "cell_type": "code",
   "execution_count": null,
   "metadata": {},
   "outputs": [],
   "source": []
  },
  {
   "cell_type": "code",
   "execution_count": null,
   "metadata": {},
   "outputs": [],
   "source": []
  },
  {
   "cell_type": "code",
   "execution_count": null,
   "metadata": {},
   "outputs": [],
   "source": []
  },
  {
   "cell_type": "code",
   "execution_count": null,
   "metadata": {},
   "outputs": [],
   "source": []
  },
  {
   "cell_type": "code",
   "execution_count": null,
   "metadata": {},
   "outputs": [],
   "source": []
  }
 ],
 "metadata": {
  "kernelspec": {
   "display_name": "Python 3",
   "language": "python",
   "name": "python3"
  },
  "language_info": {
   "codemirror_mode": {
    "name": "ipython",
    "version": 3
   },
   "file_extension": ".py",
   "mimetype": "text/x-python",
   "name": "python",
   "nbconvert_exporter": "python",
   "pygments_lexer": "ipython3",
   "version": "3.7.1"
  }
 },
 "nbformat": 4,
 "nbformat_minor": 2
}
